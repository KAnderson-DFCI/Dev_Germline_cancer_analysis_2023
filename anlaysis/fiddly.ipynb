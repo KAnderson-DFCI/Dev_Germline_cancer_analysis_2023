{
 "cells": [
  {
   "cell_type": "code",
   "execution_count": 85,
   "metadata": {},
   "outputs": [],
   "source": [
    "import re\n",
    "from collections import Counter, defaultdict as ddict\n",
    "\n",
    "import numpy as np"
   ]
  },
  {
   "cell_type": "code",
   "execution_count": 58,
   "metadata": {},
   "outputs": [],
   "source": [
    "with open(\"C:/Users/ka021/Documents/PopSPanCancerAnalysis Progress Summary.txt\") as inp:\n",
    "    text = inp.read()"
   ]
  },
  {
   "cell_type": "code",
   "execution_count": 70,
   "metadata": {},
   "outputs": [],
   "source": [
    "words = [p.strip('.,();:').lower() for p in re.split(\"[\\s-]\", text)]\n",
    "words = [w for w in words if len(w) > 0]\n",
    "word_count = Counter(words)\n",
    "count_words = ddict(list)\n",
    "for w, c in word_count.items():\n",
    "    count_words[c].append(w)"
   ]
  },
  {
   "cell_type": "code",
   "execution_count": 71,
   "metadata": {},
   "outputs": [
    {
     "name": "stdout",
     "output_type": "stream",
     "text": [
      "\"as\",\n",
      "\"various\",\n",
      "\"biobanks\",\n",
      "\"variants\",\n",
      "\"drivers\",\n",
      "\"demographics\",\n",
      "\"associations\",\n",
      "\"stress\",\n",
      "\"exomes\",\n",
      "\"has\",\n",
      "\"algorithms\",\n",
      "\"series\",\n",
      "\"scripts\",\n",
      "\"costs\",\n",
      "\"points\",\n",
      "\"genotypes\",\n",
      "\"gvcfs\",\n",
      "\"is\",\n",
      "\"practices\",\n",
      "\"glnexus\",\n",
      "\"analysis\",\n",
      "\"dimensions\",\n"
     ]
    }
   ],
   "source": [
    "for w in word_count:\n",
    "    if w.endswith('s'): print(f'\"{w}\",')"
   ]
  },
  {
   "cell_type": "code",
   "execution_count": 72,
   "metadata": {},
   "outputs": [],
   "source": [
    "plurals = [\n",
    "    \"biobanks\",\n",
    "    \"variants\",\n",
    "    \"drivers\",\n",
    "    \"associations\",\n",
    "    \"drivers\",\n",
    "    \"exomes\",\n",
    "    \"algorithms\",\n",
    "    \"scripts\",\n",
    "    \"genotypes\",\n",
    "    \"gvcfs\",\n",
    "    \"practices\",\n",
    "    \"dimensions\",\n",
    "    \"points\",\n",
    "    \"costs\",\n",
    "    \"demographics\"\n",
    "]"
   ]
  },
  {
   "cell_type": "code",
   "execution_count": 73,
   "metadata": {},
   "outputs": [],
   "source": [
    "# simple check for standard english plurals (-s suffix)\n",
    "words_singular = [w[:-1] if w in plurals else w for w in words]"
   ]
  },
  {
   "cell_type": "code",
   "execution_count": 88,
   "metadata": {},
   "outputs": [
    {
     "name": "stdout",
     "output_type": "stream",
     "text": [
      "Median 5.0 : cc 110\n",
      "Under cc 323\n",
      "Over cc 872\n"
     ]
    }
   ],
   "source": [
    "ls = np.array([len(w) for w in words_singular])\n",
    "\n",
    "med = np.median(ls)\n",
    "print('Median', med, ': cc', np.sum(ls[ls == med]))\n",
    "print('Under cc', np.sum(ls[ls < med]))\n",
    "print('Over cc', np.sum(ls[ls > med]))"
   ]
  },
  {
   "cell_type": "code",
   "execution_count": 74,
   "metadata": {},
   "outputs": [],
   "source": [
    "word_count_s = Counter(words_singular)\n",
    "count_words_s = ddict(list)\n",
    "for w, c in word_count_s.items():\n",
    "    count_words_s[c].append(w)"
   ]
  },
  {
   "cell_type": "code",
   "execution_count": 75,
   "metadata": {},
   "outputs": [
    {
     "name": "stdout",
     "output_type": "stream",
     "text": [
      "\"as\",\n",
      "\"various\",\n",
      "\"stress\",\n",
      "\"has\",\n",
      "\"series\",\n",
      "\"is\",\n",
      "\"glnexus\",\n",
      "\"analysis\",\n"
     ]
    }
   ],
   "source": [
    "for w in word_count_s:\n",
    "    if w.endswith('s'): print(f'\"{w}\",')"
   ]
  },
  {
   "cell_type": "code",
   "execution_count": 76,
   "metadata": {},
   "outputs": [
    {
     "data": {
      "text/plain": [
       "['we', 'cancer']"
      ]
     },
     "execution_count": 76,
     "metadata": {},
     "output_type": "execute_result"
    }
   ],
   "source": [
    "count_words_s[4]"
   ]
  },
  {
   "cell_type": "code",
   "execution_count": 79,
   "metadata": {},
   "outputs": [
    {
     "name": "stdout",
     "output_type": "stream",
     "text": [
      "2 sequencing, enrichment, according, genotype, various, biobank, better, while, much, form, with, gvcf, two, an, a\n",
      "3 exome, are\n",
      "4 cancer, we\n",
      "5 for, in, as\n",
      "6 of\n",
      "7 data\n",
      "10 and\n",
      "11 to\n",
      "12 the\n"
     ]
    }
   ],
   "source": [
    "maxl = max(count_words_s.keys())\n",
    "\n",
    "for i in range(2,maxl+1):\n",
    "    if not i in count_words_s: continue\n",
    "\n",
    "    print(i, \", \".join(sorted(count_words_s[i], key=lambda x: -len(x))))"
   ]
  },
  {
   "cell_type": "code",
   "execution_count": 78,
   "metadata": {},
   "outputs": [
    {
     "name": "stdout",
     "output_type": "stream",
     "text": [
      "disproportionately stratification unprecedented \n",
      "consideration relationship heritability incorporated \n",
      "increasingly compromising partitioning statistical \n",
      "identifying genetically underserved demographic association \n",
      "aggregating methodology deepvariant maintaining associated \n",
      "pathogenic particular understand especially management \n",
      "performant analytical aggregated refinement conversion \n",
      "stratified population aggregate providing examining \n",
      "discovery optimized algorithm developed institute currently \n",
      "designing potential dimension maximize possible stratify \n",
      "inferred ancestry burdened familiar required pipeline \n",
      "practice analysis variant between genetic history insight \n",
      "provide context million careful aligned glnexus further \n",
      "effort driver needed expect reveal clutch stress cohort \n",
      "volume regard series script called before power order often \n",
      "serve first major reach we've depth these entry point broad \n",
      "using phase again other from want into will both test what \n",
      "many task such that time cost wide hg38 best type over aim \n",
      "new may has end wdl raw uk is by "
     ]
    }
   ],
   "source": [
    "by_size = sorted(count_words_s[1], key=lambda x: -len(x))\n",
    "\n",
    "W = 60\n",
    "c = 0\n",
    "for w in by_size:\n",
    "    if c + len(w) > 60:\n",
    "        print()\n",
    "        c = 0\n",
    "    print(w, end=' ')\n",
    "    c += len(w) + 1\n",
    "\n"
   ]
  },
  {
   "cell_type": "code",
   "execution_count": 83,
   "metadata": {},
   "outputs": [],
   "source": [
    "common = [\"the\", \"an\", \"a\", \"as\", \"to\", \"of\", \"and\", \"then\", \"in\", \"for\", \"we\", \"are\"]"
   ]
  },
  {
   "cell_type": "code",
   "execution_count": 84,
   "metadata": {},
   "outputs": [
    {
     "data": {
      "text/plain": [
       "(167, 6.868263473053892)"
      ]
     },
     "execution_count": 84,
     "metadata": {},
     "output_type": "execute_result"
    }
   ],
   "source": [
    "N, S = 0, 0\n",
    "\n",
    "for w, c in word_count_s.items():\n",
    "    if w in common: continue\n",
    "    N += c\n",
    "    S += c * len(w)\n",
    "\n",
    "N, S/N"
   ]
  }
 ],
 "metadata": {
  "kernelspec": {
   "display_name": "Python 3",
   "language": "python",
   "name": "python3"
  },
  "language_info": {
   "codemirror_mode": {
    "name": "ipython",
    "version": 3
   },
   "file_extension": ".py",
   "mimetype": "text/x-python",
   "name": "python",
   "nbconvert_exporter": "python",
   "pygments_lexer": "ipython3",
   "version": "3.11.8"
  }
 },
 "nbformat": 4,
 "nbformat_minor": 2
}
