{
 "cells": [
  {
   "cell_type": "code",
   "execution_count": 2,
   "metadata": {},
   "outputs": [],
   "source": [
    "import os\n",
    "from argparse import ArgumentParser"
   ]
  },
  {
   "cell_type": "code",
   "execution_count": 31,
   "metadata": {},
   "outputs": [
    {
     "data": {
      "text/plain": [
       "_StoreAction(option_strings=[], dest='refRFmodel', nargs=None, const=None, default=None, type=None, choices=None, required=True, help='joblib dump of a sklearn RandomForestClassifier trained on reference PCs -> population class', metavar=None)"
      ]
     },
     "execution_count": 31,
     "metadata": {},
     "output_type": "execute_result"
    }
   ],
   "source": [
    "### Arguments\n",
    "clap = ArgumentParser(prog=\"Hail PCA Wrapper\",\n",
    "                      description=\"Convenience wrapper for performing hail PCA\")\n",
    "clap.add_argument('-r', '--reference', default='GRCh38', choices=['GRCh37', 'GRCh38', 'GRCm38', 'CanFam3'],\n",
    "                  help='the (hail-supported) background genome of the analysis')\n",
    "clap.add_argument('-b', '--bucket', default=os.environ.get('WORKSPACE_BUCKET', None),\n",
    "                  help='cloud bucket prefix to use for saving hail files')\n",
    "clasp = clap.add_subparsers(required=True, metavar='', dest='proc',\n",
    "                            description='Reference and Sample Operations')\n",
    "\n",
    "### Arguments for building the reference projcetion\n",
    "buildref_clap = clasp.add_parser('build-reference',\n",
    "                                 help='Build reference PC projection and ancestry Random-Forest')\n",
    "\n",
    "file1_args = buildref_clap.add_argument_group('Files')\n",
    "file1_args.add_argument('reference-vcf', help='reference cohort VCF')\n",
    "file1_args.add_argument('population-tsv', help='reference sample population assignments, must have: header, all samples in reference-vcf')\n",
    "file1_args.add_argument('-s', '--samples', help='sample vcf, if supplied will be projected and ancestry-inferred')\n",
    "\n",
    "buildref_clap.add_argument('-c', '--pop-col', required=True, type=int,\n",
    "                           help='column with population class in population-tsv')\n",
    "\n",
    "pca_args = buildref_clap.add_argument_group('PCA')\n",
    "pca_args.add_argument('-k', default=10, type=int,\n",
    "                      help='number of PCs to calculate')\n",
    "pca_args.add_argument('--af-min', default=0.01, type=float,\n",
    "                      help='minimum allele-frequency filter')\n",
    "pca_args.add_argument('--hwe-p', default=1e-6, type=float,\n",
    "                      help='Hardy-Weinberg p-value filter')\n",
    "pca_args.add_argument('--ld-r2', default=0.1, type=float,\n",
    "                      help='linkage disequilibrium correlation filter')\n",
    "\n",
    "### Arguments for projecting and inferring a sample set\n",
    "infer_clap = clasp.add_parser('infer-samples', help='project samples and infer ancestries using premade reference')\n",
    "\n",
    "file2_args = infer_clap.add_argument_group('Files')\n",
    "file2_args.add_argument('sample-vcf', help='sample cohort VCF')\n",
    "file2_args.add_argument('refloadings', help='Hail table with reference pc loadings and afs, (note: cannot read from local file system)')\n",
    "file2_args.add_argument('refRFmodel', help='joblib dump of a sklearn RandomForestClassifier trained on reference PCs -> population class')\n"
   ]
  },
  {
   "cell_type": "code",
   "execution_count": 37,
   "metadata": {},
   "outputs": [],
   "source": [
    "a = clap.parse_args(['build-reference', 'a', 'b' ,'-c', '5', '-s', 'd'])"
   ]
  },
  {
   "cell_type": "code",
   "execution_count": 38,
   "metadata": {},
   "outputs": [
    {
     "data": {
      "text/plain": [
       "{'reference': 'GRCh38',\n",
       " 'bucket': None,\n",
       " 'proc': 'build-reference',\n",
       " 'reference-vcf': 'a',\n",
       " 'population-tsv': 'b',\n",
       " 'samples': 'd',\n",
       " 'pop_col': 5,\n",
       " 'k': 10,\n",
       " 'af_min': 0.01,\n",
       " 'hwe_p': 1e-06,\n",
       " 'ld_r2': 0.1}"
      ]
     },
     "execution_count": 38,
     "metadata": {},
     "output_type": "execute_result"
    }
   ],
   "source": [
    "vars(a)"
   ]
  }
 ],
 "metadata": {
  "kernelspec": {
   "display_name": "py3.12",
   "language": "python",
   "name": "python3"
  },
  "language_info": {
   "codemirror_mode": {
    "name": "ipython",
    "version": 3
   },
   "file_extension": ".py",
   "mimetype": "text/x-python",
   "name": "python",
   "nbconvert_exporter": "python",
   "pygments_lexer": "ipython3",
   "version": "3.11.5"
  }
 },
 "nbformat": 4,
 "nbformat_minor": 2
}
