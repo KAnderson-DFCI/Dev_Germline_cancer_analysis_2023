{
 "cells": [
  {
   "cell_type": "code",
   "execution_count": 43,
   "metadata": {},
   "outputs": [],
   "source": [
    "import numpy as np, math\n",
    "from collections import deque, defaultdict as ddict\n",
    "\n",
    "from matplotlib.figure import Figure"
   ]
  },
  {
   "cell_type": "code",
   "execution_count": 28,
   "metadata": {},
   "outputs": [
    {
     "name": "stdout",
     "output_type": "stream",
     "text": [
      "Using matplotlib backend: <object object at 0x000001EA510E2FE0>\n"
     ]
    }
   ],
   "source": [
    "%matplotlib"
   ]
  },
  {
   "cell_type": "code",
   "execution_count": 4,
   "metadata": {},
   "outputs": [],
   "source": [
    "f = \"C:\\\\Users\\\\kyler\\\\Documents\\\\DFCI\\\\Work\\\\sample\\\\shard.vcf\""
   ]
  },
  {
   "cell_type": "code",
   "execution_count": 90,
   "metadata": {},
   "outputs": [],
   "source": [
    "xrms = np.loadtxt(f, usecols=(0), dtype='U')\n",
    "pos = np.loadtxt(f, usecols=(1), dtype=np.int32)\n",
    "buffer = 1000\n",
    "max_span = 1e6"
   ]
  },
  {
   "cell_type": "code",
   "execution_count": 156,
   "metadata": {},
   "outputs": [],
   "source": [
    "pos = np.arange(1, 5000000, 1500)\n",
    "xrms = np.ones_like(pos)\n"
   ]
  },
  {
   "cell_type": "code",
   "execution_count": 157,
   "metadata": {},
   "outputs": [
    {
     "ename": "ValueError",
     "evalue": "operands could not be broadcast together with shapes (0,) (5,) ",
     "output_type": "error",
     "traceback": [
      "\u001b[1;31m---------------------------------------------------------------------------\u001b[0m",
      "\u001b[1;31mValueError\u001b[0m                                Traceback (most recent call last)",
      "Cell \u001b[1;32mIn[157], line 18\u001b[0m\n\u001b[0;32m     15\u001b[0m iQ \u001b[38;5;241m=\u001b[39m np\u001b[38;5;241m.\u001b[39mnonzero(P[:,:\u001b[38;5;241m-\u001b[39m\u001b[38;5;241m1\u001b[39m] \u001b[38;5;241m^\u001b[39m P[:,\u001b[38;5;241m1\u001b[39m:])[\u001b[38;5;241m1\u001b[39m] \u001b[38;5;241m+\u001b[39m \u001b[38;5;241m1\u001b[39m\n\u001b[0;32m     16\u001b[0m Frags \u001b[38;5;241m=\u001b[39m np\u001b[38;5;241m.\u001b[39msplit(np\u001b[38;5;241m.\u001b[39mstack([A,B]), iQ\u001b[38;5;241m+\u001b[39m\u001b[38;5;241m1\u001b[39m, axis\u001b[38;5;241m=\u001b[39m\u001b[38;5;241m1\u001b[39m)\n\u001b[1;32m---> 18\u001b[0m Over \u001b[38;5;241m=\u001b[39m Q[iQ]\u001b[38;5;241m-\u001b[39msTs\n\u001b[0;32m     19\u001b[0m Roll \u001b[38;5;241m=\u001b[39m np\u001b[38;5;241m.\u001b[39mconcatenate([[\u001b[38;5;241m0\u001b[39m], Over]) \u001b[38;5;241m<\u001b[39m\u001b[38;5;241m=\u001b[39m buffer\n\u001b[0;32m     20\u001b[0m Rel \u001b[38;5;241m=\u001b[39m np\u001b[38;5;241m.\u001b[39marray([(b\u001b[38;5;241m-\u001b[39ma)\u001b[38;5;241m.\u001b[39msum() \u001b[38;5;28;01mfor\u001b[39;00m a,b \u001b[38;5;129;01min\u001b[39;00m Frags]) \u001b[38;5;241m-\u001b[39m lF \u001b[38;5;241m<\u001b[39m\u001b[38;5;241m=\u001b[39m buffer\n",
      "\u001b[1;31mValueError\u001b[0m: operands could not be broadcast together with shapes (0,) (5,) "
     ]
    }
   ],
   "source": [
    "L, U = np.clip(pos - buffer, 1, None), pos + buffer\n",
    "stop = (L[1:] > U[:-1]) | (xrms[1:] != xrms[:-1])\n",
    "I = np.nonzero(stop)[0]\n",
    "iA, iB = np.concatenate([[0], I+1]), np.concatenate([I, [-1]])\n",
    "A, B, X = L[iA], U[iB], xrms[iA]\n",
    "\n",
    "Lens = B-A\n",
    "Sum = Lens.sum()\n",
    "nF = math.ceil(Sum/max_span)\n",
    "lF = math.ceil(Sum/nF)\n"
   ]
  },
  {
   "cell_type": "code",
   "execution_count": 155,
   "metadata": {},
   "outputs": [
    {
     "data": {
      "text/plain": [
       "array([0])"
      ]
     },
     "execution_count": 155,
     "metadata": {},
     "output_type": "execute_result"
    }
   ],
   "source": [
    "np.array([(b-a).sum() for a,b in Frags]) - lF"
   ]
  },
  {
   "cell_type": "code",
   "execution_count": 159,
   "metadata": {},
   "outputs": [
    {
     "data": {
      "text/plain": [
       "(array([      1,     501,    2001, ..., 4995501, 4997001, 4998501]),\n",
       " array([   1001,    2501,    4001, ..., 4997501, 4999001, 5000501]),\n",
       " array([False, False, False, ..., False, False, False]),\n",
       " array([], dtype=int64),\n",
       " array([1]),\n",
       " array([5000501]))"
      ]
     },
     "execution_count": 159,
     "metadata": {},
     "output_type": "execute_result"
    }
   ],
   "source": [
    "L, U, stop, I, A, B"
   ]
  },
  {
   "cell_type": "code",
   "execution_count": 161,
   "metadata": {},
   "outputs": [
    {
     "data": {
      "text/plain": [
       "(array([5000500]),\n",
       " array([ 833417, 1666834, 2500251, 3333668, 4167085]),\n",
       " array([[ True],\n",
       "        [ True],\n",
       "        [ True],\n",
       "        [ True],\n",
       "        [ True]]),\n",
       " array([], dtype=int64))"
      ]
     },
     "execution_count": 161,
     "metadata": {},
     "output_type": "execute_result"
    }
   ],
   "source": [
    "Q, sTs, P, iQ"
   ]
  },
  {
   "cell_type": "code",
   "execution_count": 142,
   "metadata": {},
   "outputs": [
    {
     "data": {
      "text/plain": [
       "array([[7, 0, 2, 3],\n",
       "       [8, 4, 5, 6]])"
      ]
     },
     "execution_count": 142,
     "metadata": {},
     "output_type": "execute_result"
    }
   ],
   "source": [
    "M = np.array([[0,2,3],[4,5,6]])\n",
    "np.concatenate([ [[7],[8]], M], axis=1)"
   ]
  },
  {
   "cell_type": "code",
   "execution_count": 92,
   "metadata": {},
   "outputs": [
    {
     "data": {
      "text/plain": [
       "array([1912, 2337, 1387,  158,  438])"
      ]
     },
     "execution_count": 92,
     "metadata": {},
     "output_type": "execute_result"
    }
   ],
   "source": [
    "Q[iQ]-sTs"
   ]
  },
  {
   "cell_type": "code",
   "execution_count": 114,
   "metadata": {},
   "outputs": [
    {
     "data": {
      "text/plain": [
       "[1912, 425, -950, -1229, 280, -441]"
      ]
     },
     "execution_count": 114,
     "metadata": {},
     "output_type": "execute_result"
    }
   ],
   "source": [
    "[(b-a).sum() - lF for a,b in Frags]"
   ]
  },
  {
   "cell_type": "code",
   "execution_count": 95,
   "metadata": {},
   "outputs": [
    {
     "data": {
      "text/plain": [
       "array([2394, 4551, 2072, 2000, 2000])"
      ]
     },
     "execution_count": 95,
     "metadata": {},
     "output_type": "execute_result"
    }
   ],
   "source": [
    "Lens[iQ]"
   ]
  },
  {
   "cell_type": "code",
   "execution_count": 38,
   "metadata": {},
   "outputs": [
    {
     "data": {
      "image/png": "[encoded data removed]",
      "text/plain": [
       "<Figure size 1000x200 with 1 Axes>"
      ]
     },
     "execution_count": 38,
     "metadata": {},
     "output_type": "execute_result"
    }
   ],
   "source": [
    "fig = Figure(figsize=(10,2))\n",
    "ax = fig.subplots()\n",
    "\n",
    "ax.bar(np.arange(len(Cum)), Cum, width=1)\n",
    "ax.hlines(sTs, 0, 2005, colors=['k'])\n",
    "\n",
    "fig"
   ]
  },
  {
   "cell_type": "code",
   "execution_count": 16,
   "metadata": {},
   "outputs": [
    {
     "name": "stdout",
     "output_type": "stream",
     "text": [
      "[ 68270  68511  68897 929939 930131 940119 941335 941451 942136 942329]\n",
      "[ 70270  70511  70897 931939 932131 942119 943335 943451 944136 944329]\n",
      "[False False  True False  True False False False False False]\n",
      "[ 2  4 19 26 51 62 74 76 82 83]\n",
      "[  68270  929939  940119  951180  956080  969892  977812  998666 1012490\n",
      " 1019217]\n",
      "[  70897  932131  949245  954858  967689  977669  983112 1000842 1015509\n",
      " 1021217]\n"
     ]
    }
   ],
   "source": [
    "K = slice(10)\n",
    "print(L[K])\n",
    "print(U[K])\n",
    "print(stop[K])\n",
    "print(I[K])\n",
    "print(A[K])\n",
    "print(B[K])\n"
   ]
  },
  {
   "cell_type": "markdown",
   "metadata": {},
   "source": [
    "# Final"
   ]
  },
  {
   "cell_type": "code",
   "execution_count": null,
   "metadata": {},
   "outputs": [],
   "source": [
    "import math, sys, os\n",
    "from collections import deque\n",
    "import numpy as np\n",
    "\n",
    "if len(sys.argv) < 4:\n",
    "  print(\"Script requires 3 arguments: input vcf, buffer length, and maximum buffered span\")\n",
    "\n",
    "in_vcf = sys.argv[1]\n",
    "buffer = int(sys.argv[2])\n",
    "max_span = int(sys.argv[3])\n",
    "\n",
    "xrms = np.loadtxt(in_vcf, usecols=(0), dtype='U')\n",
    "pos = np.loadtxt(in_vcf, usecols=(1), dtype=np.int32)\n",
    "\n",
    "# unfortunately numpy sorts before returning the unique elements,\n",
    "#  so we have to unsort (i.e. re-sort the indices into order)\n",
    "Xorder = list(xrms[sorted(np.unique(xrms, return_index=True)[1])])\n",
    "\n",
    "L, U = np.clip(pos - buffer, 1, None), pos + buffer             # Lower, Upper buffers around each variant\n",
    "I = np.nonzero((L[1:] > U[:-1]) | (xrms[1:] != xrms[:-1]))[0]   # where buffer boundaries _dont_ overlap\n",
    "iA, iB = np.concatenate([[0], I+1]), np.concatenate([I, [-1]])  # lower, upper boundary buffer indices\n",
    "X, A, B = xrms[iA], L[iA], U[iB]                                # bounding buffers\n",
    "S = (B-A).sum()                                                 # total buffer span\n",
    "T = math.ceil(S/math.ceil(S/max_span))                          # target fragment length\n",
    "\n",
    "print(S, 'sized buffer to', T, 'length fragments')\n",
    "\n",
    "# Yay borel sets\n",
    "# deques pop from the end, so we have to load in backwards\n",
    "borel = deque(list(zip(X, A, B))[::-1])\n",
    "stop = deque()\n",
    "s = 0\n",
    "\n",
    "while len(borel) > 0:\n",
    "    x, a, b = borel.pop() # deque supports O(1) resizing\n",
    "    if b-a > (r := T-s): # split a buffer if it overflows a fragment\n",
    "        m = a + r\n",
    "        borel.append((x,m,b)) # another reason for the deque\n",
    "        b = m\n",
    "    s += b-a\n",
    "    if s >= T:\n",
    "        stop.append((x, b-1)) # accumulating fragment stopping points\n",
    "        s = 0\n",
    "stop.append((x, b))\n",
    "\n",
    "print(f'Writing {len(stop)} fragments')\n",
    "# And now the file work, which is always chunky\n",
    "with open(in_vcf) as inp:\n",
    "    header = ''\n",
    "    for line in inp: # this is gonna bleed onto the first variant line\n",
    "        if not line.startswith('#'): break\n",
    "        header += line\n",
    "\n",
    "    i = 0\n",
    "    out = open(f'{in_vcf}.subshard_{i}.vcf', 'w')\n",
    "    out.write(header)\n",
    "    xf, pf = stop[i]\n",
    "    xfi = Xorder.index(xf)\n",
    "    out.write(line) # first variant is assumably in first fragment\n",
    "\n",
    "    xrml = '-1'\n",
    "    xrmi = '-1'\n",
    "\n",
    "    for line in inp:\n",
    "        xrm, pos, *_ = line.split('\\t')\n",
    "\n",
    "        if xrmi != xrm:\n",
    "            xrml = xrm\n",
    "            xrmi = Xorder.index(xrm)\n",
    "\n",
    "        if (xrmi > xfi) or (xrmi == xfi and int(pos) > pf):\n",
    "            out.close()\n",
    "\n",
    "            i += 1\n",
    "            out = open(f'{in_vcf}.subshard_{i}.vcf', 'w')\n",
    "            out.write(header)\n",
    "            xf, pf = stop[i]\n",
    "            xfi = Xorder.index(xf)\n",
    "        out.write(line)\n",
    "\n",
    "    out.close()\n",
    "print('Done!')"
   ]
  }
 ],
 "metadata": {
  "kernelspec": {
   "display_name": "py3.12",
   "language": "python",
   "name": "python3"
  },
  "language_info": {
   "codemirror_mode": {
    "name": "ipython",
    "version": 3
   },
   "file_extension": ".py",
   "mimetype": "text/x-python",
   "name": "python",
   "nbconvert_exporter": "python",
   "pygments_lexer": "ipython3",
   "version": "3.11.5"
  }
 },
 "nbformat": 4,
 "nbformat_minor": 2
}
