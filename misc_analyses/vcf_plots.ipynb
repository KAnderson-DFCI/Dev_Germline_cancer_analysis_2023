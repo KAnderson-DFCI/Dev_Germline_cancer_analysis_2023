{
 "cells": [
  {
   "cell_type": "code",
   "execution_count": 2,
   "metadata": {},
   "outputs": [],
   "source": [
    "import os, re\n",
    "from collections import defaultdict as ddict, Counter\n",
    "\n",
    "import numpy as np\n",
    "import pandas as pd\n",
    "from matplotlib.figure import Figure\n",
    "from gzip import open as gzopen"
   ]
  },
  {
   "cell_type": "code",
   "execution_count": 37,
   "metadata": {},
   "outputs": [],
   "source": [
    "%matplotlib inline"
   ]
  },
  {
   "cell_type": "code",
   "execution_count": 3,
   "metadata": {},
   "outputs": [],
   "source": [
    "f = \"../misc_data/1KGQ_common_pop_phased.vcf.gz\""
   ]
  },
  {
   "cell_type": "code",
   "execution_count": 4,
   "metadata": {},
   "outputs": [],
   "source": [
    "contigs = []\n",
    "skipi = 0\n",
    "with gzopen(f, 'rt') as inp:\n",
    "    for line in inp:\n",
    "      skipi += 1\n",
    "      if line.startswith('##contig'):\n",
    "        m = re.search('ID=([^,>]+),?', line)\n",
    "        if not m:\n",
    "           print(line)\n",
    "           break\n",
    "        contigs.append(m[1])\n",
    "      if line.startswith('##'): continue\n",
    "      fields = line.strip().split()\n",
    "      samples = fields[9:]\n",
    "      break"
   ]
  },
  {
   "cell_type": "code",
   "execution_count": null,
   "metadata": {},
   "outputs": [
    {
     "data": {
      "text/plain": [
       "'chr1, chr2, chr3, chr4, chr5, chr6, chr7, chr8, chr9, chr10, chr11, chr12, chr13, chr14, chr15, chr16, chr17, chr18, chr19, chr20, chr21, chr22'"
      ]
     },
     "execution_count": 6,
     "metadata": {},
     "output_type": "execute_result"
    }
   ],
   "source": [
    "', '.join(contigs)"
   ]
  },
  {
   "cell_type": "code",
   "execution_count": 8,
   "metadata": {},
   "outputs": [],
   "source": [
    "def process_line(line):\n",
    "    data = line.strip().split()\n",
    "    xrm = data[0]\n",
    "    pos = int(data[1])\n",
    "    ref = data[3]\n",
    "    alts = data[4].split(',')\n",
    "    alt_types = [1 if len(ref) != len(a) else 0 for a in alts]\n",
    "\n",
    "    info = { k: v for k, v in [d.split('=') for d in data[7].split(';')] }\n",
    "    form = data[8].split(':')\n",
    "    gti = form.index('GT')\n",
    "\n",
    "    counts = [0, 0]\n",
    "    for sdat in data[9:]:\n",
    "        gt = sdat.split(':')[gti]\n",
    "        sals = gt[0], gt[2]\n",
    "        for s in sals:\n",
    "            if s not in '.0':\n",
    "                t = alt_types[int(s)-1]\n",
    "                counts[t] += 1\n",
    "    \n",
    "    return xrm, pos, counts\n"
   ]
  },
  {
   "cell_type": "code",
   "execution_count": 10,
   "metadata": {},
   "outputs": [
    {
     "name": "stdout",
     "output_type": "stream",
     "text": [
      "chr2 100726405"
     ]
    }
   ],
   "source": [
    "vdata = ddict(list)\n",
    "form = \"\\r{} {}\"\n",
    "with gzopen(f, 'rt') as inp:\n",
    "    for i in range(skipi):\n",
    "        inp.readline()\n",
    "\n",
    "    for line in inp:\n",
    "        xrm, pos, (snps, indels) = process_line(line)\n",
    "        print(form.format(xrm, pos), end='')\n",
    "        if xrm != 'chr1': break\n",
    "        vdata['xrm'].append(xrm)\n",
    "        vdata['pos'].append(pos)\n",
    "        vdata['nsnps'].append(snps)\n",
    "        vdata['ninds'].append(indels)\n",
    "        "
   ]
  },
  {
   "cell_type": "code",
   "execution_count": 11,
   "metadata": {},
   "outputs": [],
   "source": [
    "df = pd.DataFrame(vdata)"
   ]
  },
  {
   "cell_type": "code",
   "execution_count": 16,
   "metadata": {},
   "outputs": [],
   "source": [
    "df.set_index('pos', inplace=True)"
   ]
  },
  {
   "cell_type": "code",
   "execution_count": 19,
   "metadata": {},
   "outputs": [
    {
     "data": {
      "text/html": [
       "<div>\n",
       "<style scoped>\n",
       "    .dataframe tbody tr th:only-of-type {\n",
       "        vertical-align: middle;\n",
       "    }\n",
       "\n",
       "    .dataframe tbody tr th {\n",
       "        vertical-align: top;\n",
       "    }\n",
       "\n",
       "    .dataframe thead th {\n",
       "        text-align: right;\n",
       "    }\n",
       "</style>\n",
       "<table border=\"1\" class=\"dataframe\">\n",
       "  <thead>\n",
       "    <tr style=\"text-align: right;\">\n",
       "      <th></th>\n",
       "      <th>xrm</th>\n",
       "      <th>nsnps</th>\n",
       "      <th>ninds</th>\n",
       "    </tr>\n",
       "    <tr>\n",
       "      <th>pos</th>\n",
       "      <th></th>\n",
       "      <th></th>\n",
       "      <th></th>\n",
       "    </tr>\n",
       "  </thead>\n",
       "  <tbody>\n",
       "    <tr>\n",
       "      <th>4000027</th>\n",
       "      <td>chr1</td>\n",
       "      <td>2</td>\n",
       "      <td>0</td>\n",
       "    </tr>\n",
       "    <tr>\n",
       "      <th>4000054</th>\n",
       "      <td>chr1</td>\n",
       "      <td>7</td>\n",
       "      <td>0</td>\n",
       "    </tr>\n",
       "    <tr>\n",
       "      <th>4000056</th>\n",
       "      <td>chr1</td>\n",
       "      <td>13</td>\n",
       "      <td>0</td>\n",
       "    </tr>\n",
       "    <tr>\n",
       "      <th>4000062</th>\n",
       "      <td>chr1</td>\n",
       "      <td>2</td>\n",
       "      <td>0</td>\n",
       "    </tr>\n",
       "    <tr>\n",
       "      <th>4000090</th>\n",
       "      <td>chr1</td>\n",
       "      <td>2</td>\n",
       "      <td>0</td>\n",
       "    </tr>\n",
       "    <tr>\n",
       "      <th>...</th>\n",
       "      <td>...</td>\n",
       "      <td>...</td>\n",
       "      <td>...</td>\n",
       "    </tr>\n",
       "    <tr>\n",
       "      <th>8999730</th>\n",
       "      <td>chr1</td>\n",
       "      <td>4</td>\n",
       "      <td>0</td>\n",
       "    </tr>\n",
       "    <tr>\n",
       "      <th>8999779</th>\n",
       "      <td>chr1</td>\n",
       "      <td>600</td>\n",
       "      <td>0</td>\n",
       "    </tr>\n",
       "    <tr>\n",
       "      <th>8999913</th>\n",
       "      <td>chr1</td>\n",
       "      <td>2</td>\n",
       "      <td>0</td>\n",
       "    </tr>\n",
       "    <tr>\n",
       "      <th>8999978</th>\n",
       "      <td>chr1</td>\n",
       "      <td>4</td>\n",
       "      <td>0</td>\n",
       "    </tr>\n",
       "    <tr>\n",
       "      <th>9000000</th>\n",
       "      <td>chr1</td>\n",
       "      <td>4</td>\n",
       "      <td>0</td>\n",
       "    </tr>\n",
       "  </tbody>\n",
       "</table>\n",
       "<p>162393 rows × 3 columns</p>\n",
       "</div>"
      ],
      "text/plain": [
       "          xrm  nsnps  ninds\n",
       "pos                        \n",
       "4000027  chr1      2      0\n",
       "4000054  chr1      7      0\n",
       "4000056  chr1     13      0\n",
       "4000062  chr1      2      0\n",
       "4000090  chr1      2      0\n",
       "...       ...    ...    ...\n",
       "8999730  chr1      4      0\n",
       "8999779  chr1    600      0\n",
       "8999913  chr1      2      0\n",
       "8999978  chr1      4      0\n",
       "9000000  chr1      4      0\n",
       "\n",
       "[162393 rows x 3 columns]"
      ]
     },
     "execution_count": 19,
     "metadata": {},
     "output_type": "execute_result"
    }
   ],
   "source": [
    "df.loc[4e6 : 9e6]"
   ]
  },
  {
   "cell_type": "code",
   "execution_count": 1,
   "metadata": {},
   "outputs": [
    {
     "ename": "NameError",
     "evalue": "name 'Figure' is not defined",
     "output_type": "error",
     "traceback": [
      "\u001b[1;31m---------------------------------------------------------------------------\u001b[0m",
      "\u001b[1;31mNameError\u001b[0m                                 Traceback (most recent call last)",
      "Cell \u001b[1;32mIn[1], line 1\u001b[0m\n\u001b[1;32m----> 1\u001b[0m fig \u001b[38;5;241m=\u001b[39m Figure(figsize\u001b[38;5;241m=\u001b[39m(\u001b[38;5;241m10\u001b[39m,\u001b[38;5;241m3\u001b[39m), layout\u001b[38;5;241m=\u001b[39m\u001b[38;5;28;01mNone\u001b[39;00m)\n\u001b[0;32m      2\u001b[0m ax \u001b[38;5;241m=\u001b[39m fig\u001b[38;5;241m.\u001b[39msubplots()\n\u001b[0;32m      4\u001b[0m fig\u001b[38;5;241m.\u001b[39msuptitle(\u001b[38;5;124m'\u001b[39m\u001b[38;5;124mX\u001b[39m\u001b[38;5;124m'\u001b[39m)\n",
      "\u001b[1;31mNameError\u001b[0m: name 'Figure' is not defined"
     ]
    }
   ],
   "source": [
    "fig = Figure(figsize=(10,3), layout=None)\n",
    "ax = fig.subplots()\n",
    "\n",
    "fig.suptitle('X')\n",
    "\n",
    "bins = 30\n",
    "\n",
    "L = df.index[-1]\n",
    "\n",
    "B = np.linspace(0, L, bins+1)\n",
    "X = np.histogram(df.nsnps, bins=B)\n",
    "ax.bar(L[:-1], X, L/bins)\n",
    "\n",
    "#fig.set_size()\n",
    "fig"
   ]
  },
  {
   "cell_type": "code",
   "execution_count": 33,
   "metadata": {},
   "outputs": [
    {
     "data": {
      "text/plain": [
       "0.125"
      ]
     },
     "execution_count": 33,
     "metadata": {},
     "output_type": "execute_result"
    }
   ],
   "source": [
    "fig.subplotpars.left"
   ]
  }
 ],
 "metadata": {
  "kernelspec": {
   "display_name": "base",
   "language": "python",
   "name": "python3"
  },
  "language_info": {
   "codemirror_mode": {
    "name": "ipython",
    "version": 3
   },
   "file_extension": ".py",
   "mimetype": "text/x-python",
   "name": "python",
   "nbconvert_exporter": "python",
   "pygments_lexer": "ipython3",
   "version": "3.12.7"
  }
 },
 "nbformat": 4,
 "nbformat_minor": 2
}
