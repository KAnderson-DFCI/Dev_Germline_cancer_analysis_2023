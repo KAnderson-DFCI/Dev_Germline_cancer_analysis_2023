{
 "cells": [
  {
   "cell_type": "code",
   "execution_count": 6,
   "metadata": {},
   "outputs": [],
   "source": [
    "import json, os\n",
    "from importlib import reload"
   ]
  },
  {
   "cell_type": "code",
   "execution_count": 5,
   "metadata": {},
   "outputs": [],
   "source": [
    "cdir = os.getcwd()\n",
    "os.chdir(os.path.join('..', 'scripts'))\n",
    "import arkyve as aky\n",
    "import kterra as kt\n",
    "os.chdir(cdir)"
   ]
  },
  {
   "cell_type": "code",
   "execution_count": 9,
   "metadata": {},
   "outputs": [],
   "source": [
    "cdir = os.getcwd()\n",
    "os.chdir(os.path.join('..', 'scripts'))\n",
    "reload(aky)\n",
    "os.chdir(cdir)"
   ]
  },
  {
   "cell_type": "markdown",
   "metadata": {},
   "source": [
    "# Migration Planning Inspection"
   ]
  },
  {
   "cell_type": "code",
   "execution_count": 21,
   "metadata": {},
   "outputs": [],
   "source": [
    "gproject = \"aldubayan-lab-dfci\"\n",
    "archive = \"aldubayan-lab-terra-archives\"\n",
    "workspaces = [\n",
    "  \"arab_breast_cancer_study_wes\",\n",
    "  \"An_Angiosarcoma_RNA_for_DR copy\",\n",
    "  \"MID-Ciliopathies-Exome\",\n",
    "  \"QATR-WES\"\n",
    "]"
   ]
  },
  {
   "cell_type": "code",
   "execution_count": 23,
   "metadata": {},
   "outputs": [
    {
     "name": "stdout",
     "output_type": "stream",
     "text": [
      "python arkyve.py aldubayan-lab-dfci MID-Ciliopathies-Exome aldubayan-lab-terra-archives\n"
     ]
    }
   ],
   "source": [
    "print(\"python arkyve.py\", gproject, workspaces[2], archive)"
   ]
  }
 ],
 "metadata": {
  "kernelspec": {
   "display_name": "work3.11",
   "language": "python",
   "name": "python3"
  },
  "language_info": {
   "codemirror_mode": {
    "name": "ipython",
    "version": 3
   },
   "file_extension": ".py",
   "mimetype": "text/x-python",
   "name": "python",
   "nbconvert_exporter": "python",
   "pygments_lexer": "ipython3",
   "version": "3.11.11"
  }
 },
 "nbformat": 4,
 "nbformat_minor": 2
}
