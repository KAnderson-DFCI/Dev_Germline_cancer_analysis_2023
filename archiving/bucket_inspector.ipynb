{
 "cells": [
  {
   "cell_type": "code",
   "execution_count": null,
   "metadata": {},
   "outputs": [],
   "source": [
    "from os import scandir, makedirs\n",
    "from os.path import join\n",
    "\n",
    "from posixpath import basename\n",
    "from collections import Counter\n",
    "\n",
    "import svg\n",
    "import numpy as np\n",
    "import pandas as pd\n",
    "\n",
    "from google.cloud.storage import Client"
   ]
  },
  {
   "cell_type": "markdown",
   "metadata": {},
   "source": [
    "# defs"
   ]
  },
  {
   "cell_type": "code",
   "execution_count": 18,
   "metadata": {},
   "outputs": [],
   "source": [
    "def skim(d):\n",
    "  data = {'?': 0}\n",
    "  subd = []\n",
    "  with scandir(d) as sdir:\n",
    "    for n in sdir:\n",
    "      try:\n",
    "        if n.is_symlink():\n",
    "          data[n.name] = 'link'\n",
    "        elif n.is_file():\n",
    "          data[n.name] = n.stat().st_size\n",
    "          data['?'] += data[n.name]\n",
    "        elif n.is_dir():\n",
    "          subd.append((n.name, n.path))\n",
    "      except PermissionError:\n",
    "        data[n.name] = 'Restricted'\n",
    "\n",
    "  for n, p in subd:\n",
    "    try:\n",
    "      data[n] = skim(p)\n",
    "      data['?'] += data[n]['?']\n",
    "    except PermissionError:\n",
    "      data[n] = 'Restricted Dir'\n",
    "  return data\n",
    "  \n",
    "def bucket_skim(bucket):\n",
    "  data = []\n",
    "  tree = {'?': 0}\n",
    "  for b in bucket.list_blobs():\n",
    "    n = basename(b.name)\n",
    "    data.append((b.name, n, b.size))\n",
    "\n",
    "    tree['?'] += b.size\n",
    "    c = tree\n",
    "    for p in b.name.split('/')[:-1]:\n",
    "      p += '/'\n",
    "      if p not in c:\n",
    "        c[p] = {}\n",
    "      c = c[p]\n",
    "      if '?' not in c:\n",
    "        c['?'] = 0\n",
    "      c['?'] += b.size\n",
    "    c[n] = b.size\n",
    "\n",
    "  cols = ['name', 'basename', 'size']\n",
    "  df = pd.DataFrame(dict(zip(cols, zip(*data))))\n",
    "  df.set_index('name', inplace=True)\n",
    "  return df, tree\n",
    "\n",
    "prefs = ['', 'k', 'M', 'G', 'T']\n",
    "def hsize(bytes):\n",
    "  if bytes == 0: return '0 b'\n",
    "  M = int(np.log2(bytes))//10\n",
    "  V = bytes/(2**(M*10))\n",
    "  return f'{V:.1f} {prefs[M]}b'\n"
   ]
  },
  {
   "cell_type": "code",
   "execution_count": 3,
   "metadata": {},
   "outputs": [],
   "source": [
    "def bow_d(cx, cy, rO, rI, a0, a1):\n",
    "  a0 %= 360\n",
    "  a1 %= 360\n",
    "  A = np.deg2rad([a0%360, a1%360])\n",
    "  V = np.transpose([np.cos(A), np.sin(A)])\n",
    "  C = np.array([cx, cy])\n",
    "  EO = rO * V + C\n",
    "  EI = rI * V + C\n",
    "\n",
    "  larger = (a1 - a0)%360 > 180\n",
    "  return [\n",
    "    svg.MoveTo(*EO[0]),\n",
    "    svg.Arc(rO, rO, 0, larger, True, *EO[1]),\n",
    "    svg.LineTo(*EI[1]),\n",
    "    svg.Arc(rI, rI, 0, larger, False, *EI[0]),\n",
    "    svg.ClosePath()\n",
    "  ]\n",
    "\n",
    "def arc_d(cx, cy, r, a0, a1):\n",
    "  a0 %= 360\n",
    "  a1 %= 360\n",
    "  A = np.deg2rad([a0%360, a1%360])\n",
    "  V = np.transpose([np.cos(A), np.sin(A)])\n",
    "  C = np.array([cx, cy])\n",
    "  EO = r * V + C\n",
    "\n",
    "  larger = (a1 - a0)%360 > 180\n",
    "  return [\n",
    "    svg.MoveTo(*EO[0]),\n",
    "    svg.Arc(r, r, 0, larger, True, *EO[1])\n",
    "  ]\n",
    "\n",
    "def qbow(r, w, a0, a1):\n",
    "  return bow_d(0, 0, r-w/2, r+w/2, a0, a1)\n",
    "\n",
    "def qarc(r, a0, a1):\n",
    "  return arc_d(0,0,r,a0,a1)\n"
   ]
  },
  {
   "cell_type": "code",
   "execution_count": 4,
   "metadata": {},
   "outputs": [],
   "source": [
    "def bargram(tree, level=1, z=0, pre=''):\n",
    "  p = 0\n",
    "  bars = []\n",
    "  fs = []\n",
    "\n",
    "  if level == 1: bars.append((0, 0, pre, 0, tree['?']))\n",
    "  for n, v in tree.items():\n",
    "    if n == '?': continue\n",
    "    if isinstance(v, dict):\n",
    "      if v['?'] == 0: continue\n",
    "      bars.append((level, 0, join(pre, n), p + z, v['?']))\n",
    "      bars += bargram(v, level+1, p + z, join(pre, n))\n",
    "      p += v['?']\n",
    "    elif isinstance(v, int):\n",
    "      fs.append((n, v))\n",
    "\n",
    "  for n, v in fs:\n",
    "    if v == 0: continue\n",
    "    bars.append((level, 1, join(pre, n), p + z, v))\n",
    "    p += v\n",
    "  \n",
    "  return bars"
   ]
  },
  {
   "cell_type": "code",
   "execution_count": 5,
   "metadata": {},
   "outputs": [],
   "source": [
    "colors = [['#59158D', '#AD65E5', '#360958'],\n",
    "          ['#D39613', '#FFCF66', '#845B04'],\n",
    "          ['#3C1B91', '#8D6BE6', '#220C5A'],\n",
    "          ['#D35D13', '#FFA166', '#843504']]\n",
    "\n",
    "def make_bows(bardata, T=360):\n",
    "  elements = []\n",
    "  c = Counter()\n",
    "  for l, t, n, i0, i1 in bardata:\n",
    "    if l == 0 or i1/T*360 < 2/l: continue\n",
    "    elements.append(\n",
    "      svg.Path(\n",
    "        d=qbow(l*10, 6, i0/T*360, (i0+i1)/T*360),\n",
    "        fill=colors[l%4][t],\n",
    "        stroke=colors[l%4][2], stroke_width=0.4,\n",
    "        elements=[svg.Title(text=f'{n} : {hsize(i1)}')]\n",
    "      )\n",
    "    )\n",
    "    c[l] += 1\n",
    "  return elements, max(c.keys())"
   ]
  },
  {
   "cell_type": "code",
   "execution_count": 19,
   "metadata": {},
   "outputs": [],
   "source": [
    "def inspect_bucket(bucket_name, overname=None):\n",
    "  client = Client()\n",
    "  bucket = client.bucket(bucket_name)\n",
    "\n",
    "  fname = overname if overname else bucket_name\n",
    "\n",
    "  if not bucket.exists():\n",
    "    print(f'{bucket_name} not accessible. Check the name or the account credentials.')\n",
    "  \n",
    "  file_df, size_data = bucket_skim(bucket)\n",
    "  print(f'Total Bucket Size: {hsize(size_data[\"?\"])}')\n",
    "  bardata = bargram(size_data)\n",
    "  arcs, levels = make_bows(bardata, T=bardata[0][-1])\n",
    "  ext = (levels+1)*10\n",
    "  canvas = svg.SVG(\n",
    "    viewBox=svg.ViewBoxSpec(-ext, -ext, ext*2, ext*2),\n",
    "    width=1000, height=1000,\n",
    "    elements=arcs\n",
    "  )\n",
    "  \n",
    "  print(f'Saving graphic to inspection/{fname}/file_chart.svg')\n",
    "  makedirs(f'inspection/{fname}', exist_ok=True)\n",
    "  with open(f'inspection/{fname}/file_chart.svg', 'w') as out:\n",
    "    print(canvas, file=out)\n",
    "\n",
    "  print(f'Saving file table to inspection/{fname}/file_table.tsv')\n",
    "  file_df.to_csv(f'inspection/{fname}/file_table.tsv', sep='\\t')\n",
    "\n",
    "  bn_stats = file_df.groupby('basename')['size'].agg(('count', 'sum'))\n",
    "  bn_stats['size'] = bn_stats['sum'].apply(hsize)\n",
    "  bn_stats.sort_values('sum', ascending=False)\n",
    "  print(f'Saving basename table to inspection/{fname}/base_table.tsv')\n",
    "  bn_stats.to_csv(f'inspection/{fname}/base_table.tsv', sep='\\t')\n"
   ]
  },
  {
   "cell_type": "markdown",
   "metadata": {},
   "source": [
    "# exec"
   ]
  },
  {
   "cell_type": "code",
   "execution_count": 23,
   "metadata": {},
   "outputs": [],
   "source": [
    "df = pd.read_csv('Aldubayan Google Project Summary - Terra Info.csv')"
   ]
  },
  {
   "cell_type": "code",
   "execution_count": 1,
   "metadata": {},
   "outputs": [],
   "source": [
    "analyze = \"\"\"An_Angiosarcoma_RNA_for_DR copy\n",
    "QATR-1KG-Reference-Panel\n",
    "MID-Ciliopathies-Exome\n",
    "QATR-WES\n",
    "arab_breast_cancer\n",
    "arab_breast_cancer_study_wes\n",
    "KAnderson_Multi-Ancestry-PRS_WES_1KG\n",
    "KAnderson_PC_Germline_Analysis_WES\n",
    "KAnderson_PCGermline_CohortScale_Dev\n",
    "KAnderson_PCGermline_SampleScale_Dev\n",
    "KAnderson_Qatari_WGS_Ref_Curation\"\"\".split('\\n')"
   ]
  },
  {
   "cell_type": "code",
   "execution_count": 34,
   "metadata": {},
   "outputs": [
    {
     "name": "stdout",
     "output_type": "stream",
     "text": [
      "Total Bucket Size: 3.5 Tb\n",
      "Saving graphic to inspection/An_Angiosarcoma_RNA_for_DR copy/file_chart.svg\n",
      "Saving file table to inspection/An_Angiosarcoma_RNA_for_DR copy/file_table.tsv\n",
      "Saving basename table to inspection/An_Angiosarcoma_RNA_for_DR copy/base_table.tsv\n",
      "----------------\n",
      "Total Bucket Size: 2.2 Tb\n",
      "Saving graphic to inspection/KAnderson_Multi-Ancestry-PRS_WES_1KG/file_chart.svg\n",
      "Saving file table to inspection/KAnderson_Multi-Ancestry-PRS_WES_1KG/file_table.tsv\n",
      "Saving basename table to inspection/KAnderson_Multi-Ancestry-PRS_WES_1KG/base_table.tsv\n",
      "----------------\n",
      "Total Bucket Size: 2.3 Tb\n",
      "Saving graphic to inspection/KAnderson_PC_Germline_Analysis_WES/file_chart.svg\n",
      "Saving file table to inspection/KAnderson_PC_Germline_Analysis_WES/file_table.tsv\n",
      "Saving basename table to inspection/KAnderson_PC_Germline_Analysis_WES/base_table.tsv\n",
      "----------------\n",
      "Total Bucket Size: 2.3 Tb\n",
      "Saving graphic to inspection/KAnderson_PCGermline_CohortScale_Dev/file_chart.svg\n",
      "Saving file table to inspection/KAnderson_PCGermline_CohortScale_Dev/file_table.tsv\n",
      "Saving basename table to inspection/KAnderson_PCGermline_CohortScale_Dev/base_table.tsv\n",
      "----------------\n",
      "Total Bucket Size: 502.0 Gb\n",
      "Saving graphic to inspection/KAnderson_PCGermline_SampleScale_Dev/file_chart.svg\n",
      "Saving file table to inspection/KAnderson_PCGermline_SampleScale_Dev/file_table.tsv\n",
      "Saving basename table to inspection/KAnderson_PCGermline_SampleScale_Dev/base_table.tsv\n",
      "----------------\n",
      "Total Bucket Size: 1.6 Tb\n",
      "Saving graphic to inspection/KAnderson_Qatari_WGS_Ref_Curation/file_chart.svg\n",
      "Saving file table to inspection/KAnderson_Qatari_WGS_Ref_Curation/file_table.tsv\n",
      "Saving basename table to inspection/KAnderson_Qatari_WGS_Ref_Curation/base_table.tsv\n",
      "----------------\n",
      "Total Bucket Size: 3.6 Tb\n",
      "Saving graphic to inspection/MID-Ciliopathies-Exome/file_chart.svg\n",
      "Saving file table to inspection/MID-Ciliopathies-Exome/file_table.tsv\n",
      "Saving basename table to inspection/MID-Ciliopathies-Exome/base_table.tsv\n",
      "----------------\n",
      "Total Bucket Size: 402.0 Gb\n",
      "Saving graphic to inspection/arab_breast_cancer/file_chart.svg\n",
      "Saving file table to inspection/arab_breast_cancer/file_table.tsv\n",
      "Saving basename table to inspection/arab_breast_cancer/base_table.tsv\n",
      "----------------\n",
      "Total Bucket Size: 306.7 Gb\n",
      "Saving graphic to inspection/arab_breast_cancer_study_wes/file_chart.svg\n",
      "Saving file table to inspection/arab_breast_cancer_study_wes/file_table.tsv\n",
      "Saving basename table to inspection/arab_breast_cancer_study_wes/base_table.tsv\n",
      "----------------\n",
      "Total Bucket Size: 2.4 Tb\n",
      "Saving graphic to inspection/QATR-1KG-Reference-Panel/file_chart.svg\n",
      "Saving file table to inspection/QATR-1KG-Reference-Panel/file_table.tsv\n",
      "Saving basename table to inspection/QATR-1KG-Reference-Panel/base_table.tsv\n",
      "----------------\n",
      "Total Bucket Size: 9.0 Tb\n",
      "Saving graphic to inspection/QATR-WES/file_chart.svg\n",
      "Saving file table to inspection/QATR-WES/file_table.tsv\n",
      "Saving basename table to inspection/QATR-WES/base_table.tsv\n",
      "----------------\n"
     ]
    }
   ],
   "source": [
    "selection = df[df.Name.isin(analyze)][['Name', 'Bucket']]\n",
    "\n",
    "for i, (n, b) in selection.iterrows():\n",
    "  inspect_bucket(b, n)\n",
    "  print('----------------')"
   ]
  },
  {
   "cell_type": "markdown",
   "metadata": {},
   "source": [
    "# Blob Migration Errors"
   ]
  },
  {
   "cell_type": "code",
   "execution_count": 1,
   "metadata": {},
   "outputs": [],
   "source": [
    "import archive_blobs as ak\n",
    "from os.path import join\n",
    "from os import makedirs\n",
    "from json import load"
   ]
  },
  {
   "cell_type": "code",
   "execution_count": 2,
   "metadata": {},
   "outputs": [],
   "source": [
    "wsn = \"An_Angiosarcoma_RNA_for_DR copy\"\n",
    "akn = \"aldubayan-lab-terra-archives\""
   ]
  },
  {
   "cell_type": "code",
   "execution_count": 3,
   "metadata": {},
   "outputs": [],
   "source": [
    "try:\n",
    "  wsdata = ak.fc_workspaces.loc[wsn]\n",
    "except KeyError as e:\n",
    "  print(f\"Workspace {wsn} not found!\")\n",
    "  raise KeyError(f\"Workspace {wsn} not found!\") from e\n",
    "\n",
    "where = join(\"migration\", wsn)\n",
    "makedirs(where, exist_ok=True)\n",
    "\n",
    "migrator = ak.BucketMigrator(wsdata.bucketName, akn, wsn)"
   ]
  },
  {
   "cell_type": "code",
   "execution_count": 19,
   "metadata": {},
   "outputs": [],
   "source": [
    "with open(join(where,'misc_migration_problems.json')) as inp:\n",
    "  problems0 = load(inp)"
   ]
  },
  {
   "cell_type": "code",
   "execution_count": 20,
   "metadata": {},
   "outputs": [
    {
     "data": {
      "text/plain": [
       "{'E': [['submissions/e3dccf6f-44a4-4174-af21-03aa26e8db06/FusionCallingTriplet/a1d721ea-fe32-4cc3-9007-33eac4a86ca4/call-UnpackRefDir/glob-893608964af52bd03395969782339be2/007',\n",
       "   'gs://aldubayan-lab-terra-archives/An_Angiosarcoma_RNA_for_DR copy/misc_files/submissions/e3dccf6f-44a4-4174-af21-03aa26e8db06/FusionCallingTriplet/a1d721ea-fe32-4cc3-9007-33eac4a86ca4/call-UnpackRefDir/glob-893608964af52bd03395969782339be2/007'],\n",
       "  ['submissions/fc34c3af-66f4-4d64-9784-b67c15b570f7/FusionCallingTriplet/c76e3d66-b0a2-434e-a6d3-0822be7acb69/call-StarFusion/stderr',\n",
       "   'gs://aldubayan-lab-terra-archives/An_Angiosarcoma_RNA_for_DR copy/misc_files/submissions/fc34c3af-66f4-4d64-9784-b67c15b570f7/FusionCallingTriplet/c76e3d66-b0a2-434e-a6d3-0822be7acb69/call-StarFusion/stderr']]}"
      ]
     },
     "execution_count": 20,
     "metadata": {},
     "output_type": "execute_result"
    }
   ],
   "source": [
    "problems0"
   ]
  },
  {
   "cell_type": "code",
   "execution_count": 21,
   "metadata": {},
   "outputs": [],
   "source": [
    "error_file_map = dict(problems0['E'])\n",
    "migrator.file_map = error_file_map"
   ]
  },
  {
   "cell_type": "code",
   "execution_count": 23,
   "metadata": {},
   "outputs": [
    {
     "name": "stdout",
     "output_type": "stream",
     "text": [
      "Migrating 2 files:2(C) = 2(D) + 0(M) + 0(E)"
     ]
    }
   ],
   "source": [
    "counts, problems = migrator.migrate_files()"
   ]
  },
  {
   "cell_type": "code",
   "execution_count": 4,
   "metadata": {},
   "outputs": [
    {
     "name": "stdout",
     "output_type": "stream",
     "text": [
      "Deleting old files..."
     ]
    },
    {
     "ename": "KeyboardInterrupt",
     "evalue": "",
     "output_type": "error",
     "traceback": [
      "\u001b[1;31m---------------------------------------------------------------------------\u001b[0m",
      "\u001b[1;31mKeyboardInterrupt\u001b[0m                         Traceback (most recent call last)",
      "Cell \u001b[1;32mIn[4], line 1\u001b[0m\n\u001b[1;32m----> 1\u001b[0m migrator\u001b[38;5;241m.\u001b[39mcleanup_old()\n",
      "File \u001b[1;32mc:\\Users\\kyler\\Code\\Work\\Dev_Germline_cancer_analysis_2023\\archiving\\archive_blobs.py:108\u001b[0m, in \u001b[0;36mBucketMigrator.cleanup_old\u001b[1;34m(self)\u001b[0m\n\u001b[0;32m    101\u001b[0m overline(\u001b[38;5;124m\"\u001b[39m\u001b[38;5;124mDeleting old files...\u001b[39m\u001b[38;5;124m\"\u001b[39m)\n\u001b[0;32m    103\u001b[0m stat_string \u001b[38;5;241m=\u001b[39m (\n\u001b[0;32m    104\u001b[0m   \u001b[38;5;124mf\u001b[39m\u001b[38;5;124m\"\u001b[39m\u001b[38;5;124mDeleting \u001b[39m\u001b[38;5;132;01m{\u001b[39;00m\u001b[38;5;28mlen\u001b[39m(\u001b[38;5;28mself\u001b[39m\u001b[38;5;241m.\u001b[39mfile_map)\u001b[38;5;132;01m}\u001b[39;00m\u001b[38;5;124m files:\u001b[39m\u001b[38;5;124m\"\u001b[39m\n\u001b[0;32m    105\u001b[0m   \u001b[38;5;241m+\u001b[39m \u001b[38;5;124m\"\u001b[39m\u001b[38;5;132;01m{C}\u001b[39;00m\u001b[38;5;124m(C) = \u001b[39m\u001b[38;5;132;01m{D}\u001b[39;00m\u001b[38;5;124m(D) + \u001b[39m\u001b[38;5;132;01m{E}\u001b[39;00m\u001b[38;5;124m(E)\u001b[39m\u001b[38;5;124m\"\u001b[39m\n\u001b[0;32m    106\u001b[0m )\n\u001b[0;32m    107\u001b[0m \u001b[38;5;28;01mwith\u001b[39;00m Pool(\n\u001b[1;32m--> 108\u001b[0m   processes\u001b[38;5;241m=\u001b[39mn, initializer\u001b[38;5;241m=\u001b[39msetup_connections, initargs\u001b[38;5;241m=\u001b[39m\u001b[38;5;28mself\u001b[39m\u001b[38;5;241m.\u001b[39mconnection_info\n\u001b[0;32m    109\u001b[0m ) \u001b[38;5;28;01mas\u001b[39;00m p:\n\u001b[0;32m    111\u001b[0m   iou \u001b[38;5;241m=\u001b[39m p\u001b[38;5;241m.\u001b[39mimap_unordered(safe_delete_file_v, \u001b[38;5;28mself\u001b[39m\u001b[38;5;241m.\u001b[39mfile_map\u001b[38;5;241m.\u001b[39mitems())\n\u001b[0;32m    112\u001b[0m   \u001b[38;5;28;01mfor\u001b[39;00m srce, status \u001b[38;5;129;01min\u001b[39;00m iou:\n",
      "File \u001b[1;32mc:\\Users\\kyler\\Anaconda\\envs\\work3.11\\Lib\\contextlib.py:81\u001b[0m, in \u001b[0;36mContextDecorator.__call__.<locals>.inner\u001b[1;34m(*args, **kwds)\u001b[0m\n\u001b[0;32m     78\u001b[0m \u001b[38;5;129m@wraps\u001b[39m(func)\n\u001b[0;32m     79\u001b[0m \u001b[38;5;28;01mdef\u001b[39;00m \u001b[38;5;21minner\u001b[39m(\u001b[38;5;241m*\u001b[39margs, \u001b[38;5;241m*\u001b[39m\u001b[38;5;241m*\u001b[39mkwds):\n\u001b[0;32m     80\u001b[0m     \u001b[38;5;28;01mwith\u001b[39;00m \u001b[38;5;28mself\u001b[39m\u001b[38;5;241m.\u001b[39m_recreate_cm():\n\u001b[1;32m---> 81\u001b[0m         \u001b[38;5;28;01mreturn\u001b[39;00m func(\u001b[38;5;241m*\u001b[39margs, \u001b[38;5;241m*\u001b[39m\u001b[38;5;241m*\u001b[39mkwds)\n",
      "File \u001b[1;32mc:\\Users\\kyler\\Anaconda\\envs\\work3.11\\Lib\\site-packages\\google\\cloud\\storage\\blob.py:738\u001b[0m, in \u001b[0;36mBlob.exists\u001b[1;34m(self, client, if_etag_match, if_etag_not_match, if_generation_match, if_generation_not_match, if_metageneration_match, if_metageneration_not_match, timeout, retry, soft_deleted)\u001b[0m\n\u001b[0;32m    731\u001b[0m _add_etag_match_headers(\n\u001b[0;32m    732\u001b[0m     headers, if_etag_match\u001b[38;5;241m=\u001b[39mif_etag_match, if_etag_not_match\u001b[38;5;241m=\u001b[39mif_etag_not_match\n\u001b[0;32m    733\u001b[0m )\n\u001b[0;32m    735\u001b[0m \u001b[38;5;28;01mtry\u001b[39;00m:\n\u001b[0;32m    736\u001b[0m     \u001b[38;5;66;03m# We intentionally pass `_target_object=None` since fields=name\u001b[39;00m\n\u001b[0;32m    737\u001b[0m     \u001b[38;5;66;03m# would limit the local properties.\u001b[39;00m\n\u001b[1;32m--> 738\u001b[0m     client\u001b[38;5;241m.\u001b[39m_get_resource(\n\u001b[0;32m    739\u001b[0m         \u001b[38;5;28mself\u001b[39m\u001b[38;5;241m.\u001b[39mpath,\n\u001b[0;32m    740\u001b[0m         query_params\u001b[38;5;241m=\u001b[39mquery_params,\n\u001b[0;32m    741\u001b[0m         headers\u001b[38;5;241m=\u001b[39mheaders,\n\u001b[0;32m    742\u001b[0m         timeout\u001b[38;5;241m=\u001b[39mtimeout,\n\u001b[0;32m    743\u001b[0m         retry\u001b[38;5;241m=\u001b[39mretry,\n\u001b[0;32m    744\u001b[0m         _target_object\u001b[38;5;241m=\u001b[39m\u001b[38;5;28;01mNone\u001b[39;00m,\n\u001b[0;32m    745\u001b[0m     )\n\u001b[0;32m    746\u001b[0m \u001b[38;5;28;01mexcept\u001b[39;00m NotFound:\n\u001b[0;32m    747\u001b[0m     \u001b[38;5;66;03m# NOTE: This will not fail immediately in a batch. However, when\u001b[39;00m\n\u001b[0;32m    748\u001b[0m     \u001b[38;5;66;03m#       Batch.finish() is called, the resulting `NotFound` will be\u001b[39;00m\n\u001b[0;32m    749\u001b[0m     \u001b[38;5;66;03m#       raised.\u001b[39;00m\n\u001b[0;32m    750\u001b[0m     \u001b[38;5;28;01mreturn\u001b[39;00m \u001b[38;5;28;01mFalse\u001b[39;00m\n",
      "File \u001b[1;32mc:\\Users\\kyler\\Anaconda\\envs\\work3.11\\Lib\\site-packages\\google\\cloud\\storage\\client.py:474\u001b[0m, in \u001b[0;36mClient._get_resource\u001b[1;34m(self, path, query_params, headers, timeout, retry, _target_object)\u001b[0m\n\u001b[0;32m    418\u001b[0m \u001b[38;5;28;01mdef\u001b[39;00m \u001b[38;5;21m_get_resource\u001b[39m(\n\u001b[0;32m    419\u001b[0m     \u001b[38;5;28mself\u001b[39m,\n\u001b[0;32m    420\u001b[0m     path,\n\u001b[1;32m   (...)\u001b[0m\n\u001b[0;32m    425\u001b[0m     _target_object\u001b[38;5;241m=\u001b[39m\u001b[38;5;28;01mNone\u001b[39;00m,\n\u001b[0;32m    426\u001b[0m ):\n\u001b[0;32m    427\u001b[0m \u001b[38;5;250m    \u001b[39m\u001b[38;5;124;03m\"\"\"Helper for bucket / blob methods making API 'GET' calls.\u001b[39;00m\n\u001b[0;32m    428\u001b[0m \n\u001b[0;32m    429\u001b[0m \u001b[38;5;124;03m    Args:\u001b[39;00m\n\u001b[1;32m   (...)\u001b[0m\n\u001b[0;32m    472\u001b[0m \u001b[38;5;124;03m            If the bucket is not found.\u001b[39;00m\n\u001b[0;32m    473\u001b[0m \u001b[38;5;124;03m    \"\"\"\u001b[39;00m\n\u001b[1;32m--> 474\u001b[0m     \u001b[38;5;28;01mreturn\u001b[39;00m \u001b[38;5;28mself\u001b[39m\u001b[38;5;241m.\u001b[39m_connection\u001b[38;5;241m.\u001b[39mapi_request(\n\u001b[0;32m    475\u001b[0m         method\u001b[38;5;241m=\u001b[39m\u001b[38;5;124m\"\u001b[39m\u001b[38;5;124mGET\u001b[39m\u001b[38;5;124m\"\u001b[39m,\n\u001b[0;32m    476\u001b[0m         path\u001b[38;5;241m=\u001b[39mpath,\n\u001b[0;32m    477\u001b[0m         query_params\u001b[38;5;241m=\u001b[39mquery_params,\n\u001b[0;32m    478\u001b[0m         headers\u001b[38;5;241m=\u001b[39mheaders,\n\u001b[0;32m    479\u001b[0m         timeout\u001b[38;5;241m=\u001b[39mtimeout,\n\u001b[0;32m    480\u001b[0m         retry\u001b[38;5;241m=\u001b[39mretry,\n\u001b[0;32m    481\u001b[0m         _target_object\u001b[38;5;241m=\u001b[39m_target_object,\n\u001b[0;32m    482\u001b[0m     )\n",
      "File \u001b[1;32mc:\\Users\\kyler\\Anaconda\\envs\\work3.11\\Lib\\site-packages\\google\\cloud\\storage\\_http.py:90\u001b[0m, in \u001b[0;36mConnection.api_request\u001b[1;34m(self, *args, **kwargs)\u001b[0m\n\u001b[0;32m     88\u001b[0m     \u001b[38;5;28;01mif\u001b[39;00m retry:\n\u001b[0;32m     89\u001b[0m         call \u001b[38;5;241m=\u001b[39m retry(call)\n\u001b[1;32m---> 90\u001b[0m \u001b[38;5;28;01mreturn\u001b[39;00m call()\n",
      "File \u001b[1;32mc:\\Users\\kyler\\Anaconda\\envs\\work3.11\\Lib\\site-packages\\google\\api_core\\retry\\retry_unary.py:293\u001b[0m, in \u001b[0;36mRetry.__call__.<locals>.retry_wrapped_func\u001b[1;34m(*args, **kwargs)\u001b[0m\n\u001b[0;32m    289\u001b[0m target \u001b[38;5;241m=\u001b[39m functools\u001b[38;5;241m.\u001b[39mpartial(func, \u001b[38;5;241m*\u001b[39margs, \u001b[38;5;241m*\u001b[39m\u001b[38;5;241m*\u001b[39mkwargs)\n\u001b[0;32m    290\u001b[0m sleep_generator \u001b[38;5;241m=\u001b[39m exponential_sleep_generator(\n\u001b[0;32m    291\u001b[0m     \u001b[38;5;28mself\u001b[39m\u001b[38;5;241m.\u001b[39m_initial, \u001b[38;5;28mself\u001b[39m\u001b[38;5;241m.\u001b[39m_maximum, multiplier\u001b[38;5;241m=\u001b[39m\u001b[38;5;28mself\u001b[39m\u001b[38;5;241m.\u001b[39m_multiplier\n\u001b[0;32m    292\u001b[0m )\n\u001b[1;32m--> 293\u001b[0m \u001b[38;5;28;01mreturn\u001b[39;00m retry_target(\n\u001b[0;32m    294\u001b[0m     target,\n\u001b[0;32m    295\u001b[0m     \u001b[38;5;28mself\u001b[39m\u001b[38;5;241m.\u001b[39m_predicate,\n\u001b[0;32m    296\u001b[0m     sleep_generator,\n\u001b[0;32m    297\u001b[0m     timeout\u001b[38;5;241m=\u001b[39m\u001b[38;5;28mself\u001b[39m\u001b[38;5;241m.\u001b[39m_timeout,\n\u001b[0;32m    298\u001b[0m     on_error\u001b[38;5;241m=\u001b[39mon_error,\n\u001b[0;32m    299\u001b[0m )\n",
      "File \u001b[1;32mc:\\Users\\kyler\\Anaconda\\envs\\work3.11\\Lib\\site-packages\\google\\api_core\\retry\\retry_unary.py:144\u001b[0m, in \u001b[0;36mretry_target\u001b[1;34m(target, predicate, sleep_generator, timeout, on_error, exception_factory, **kwargs)\u001b[0m\n\u001b[0;32m    142\u001b[0m \u001b[38;5;28;01mfor\u001b[39;00m sleep \u001b[38;5;129;01min\u001b[39;00m sleep_generator:\n\u001b[0;32m    143\u001b[0m     \u001b[38;5;28;01mtry\u001b[39;00m:\n\u001b[1;32m--> 144\u001b[0m         result \u001b[38;5;241m=\u001b[39m target()\n\u001b[0;32m    145\u001b[0m         \u001b[38;5;28;01mif\u001b[39;00m inspect\u001b[38;5;241m.\u001b[39misawaitable(result):\n\u001b[0;32m    146\u001b[0m             warnings\u001b[38;5;241m.\u001b[39mwarn(_ASYNC_RETRY_WARNING)\n",
      "File \u001b[1;32mc:\\Users\\kyler\\Anaconda\\envs\\work3.11\\Lib\\site-packages\\google\\cloud\\_http\\__init__.py:482\u001b[0m, in \u001b[0;36mJSONConnection.api_request\u001b[1;34m(self, method, path, query_params, data, content_type, headers, api_base_url, api_version, expect_json, _target_object, timeout, extra_api_info)\u001b[0m\n\u001b[0;32m    479\u001b[0m     data \u001b[38;5;241m=\u001b[39m json\u001b[38;5;241m.\u001b[39mdumps(data)\n\u001b[0;32m    480\u001b[0m     content_type \u001b[38;5;241m=\u001b[39m \u001b[38;5;124m\"\u001b[39m\u001b[38;5;124mapplication/json\u001b[39m\u001b[38;5;124m\"\u001b[39m\n\u001b[1;32m--> 482\u001b[0m response \u001b[38;5;241m=\u001b[39m \u001b[38;5;28mself\u001b[39m\u001b[38;5;241m.\u001b[39m_make_request(\n\u001b[0;32m    483\u001b[0m     method\u001b[38;5;241m=\u001b[39mmethod,\n\u001b[0;32m    484\u001b[0m     url\u001b[38;5;241m=\u001b[39murl,\n\u001b[0;32m    485\u001b[0m     data\u001b[38;5;241m=\u001b[39mdata,\n\u001b[0;32m    486\u001b[0m     content_type\u001b[38;5;241m=\u001b[39mcontent_type,\n\u001b[0;32m    487\u001b[0m     headers\u001b[38;5;241m=\u001b[39mheaders,\n\u001b[0;32m    488\u001b[0m     target_object\u001b[38;5;241m=\u001b[39m_target_object,\n\u001b[0;32m    489\u001b[0m     timeout\u001b[38;5;241m=\u001b[39mtimeout,\n\u001b[0;32m    490\u001b[0m     extra_api_info\u001b[38;5;241m=\u001b[39mextra_api_info,\n\u001b[0;32m    491\u001b[0m )\n\u001b[0;32m    493\u001b[0m \u001b[38;5;28;01mif\u001b[39;00m \u001b[38;5;129;01mnot\u001b[39;00m \u001b[38;5;241m200\u001b[39m \u001b[38;5;241m<\u001b[39m\u001b[38;5;241m=\u001b[39m response\u001b[38;5;241m.\u001b[39mstatus_code \u001b[38;5;241m<\u001b[39m \u001b[38;5;241m300\u001b[39m:\n\u001b[0;32m    494\u001b[0m     \u001b[38;5;28;01mraise\u001b[39;00m exceptions\u001b[38;5;241m.\u001b[39mfrom_http_response(response)\n",
      "File \u001b[1;32mc:\\Users\\kyler\\Anaconda\\envs\\work3.11\\Lib\\site-packages\\google\\cloud\\_http\\__init__.py:341\u001b[0m, in \u001b[0;36mJSONConnection._make_request\u001b[1;34m(self, method, url, data, content_type, headers, target_object, timeout, extra_api_info)\u001b[0m\n\u001b[0;32m    338\u001b[0m     headers[CLIENT_INFO_HEADER] \u001b[38;5;241m=\u001b[39m \u001b[38;5;28mself\u001b[39m\u001b[38;5;241m.\u001b[39muser_agent\n\u001b[0;32m    339\u001b[0m headers[\u001b[38;5;124m\"\u001b[39m\u001b[38;5;124mUser-Agent\u001b[39m\u001b[38;5;124m\"\u001b[39m] \u001b[38;5;241m=\u001b[39m \u001b[38;5;28mself\u001b[39m\u001b[38;5;241m.\u001b[39muser_agent\n\u001b[1;32m--> 341\u001b[0m \u001b[38;5;28;01mreturn\u001b[39;00m \u001b[38;5;28mself\u001b[39m\u001b[38;5;241m.\u001b[39m_do_request(\n\u001b[0;32m    342\u001b[0m     method, url, headers, data, target_object, timeout\u001b[38;5;241m=\u001b[39mtimeout\n\u001b[0;32m    343\u001b[0m )\n",
      "File \u001b[1;32mc:\\Users\\kyler\\Anaconda\\envs\\work3.11\\Lib\\site-packages\\google\\cloud\\_http\\__init__.py:379\u001b[0m, in \u001b[0;36mJSONConnection._do_request\u001b[1;34m(self, method, url, headers, data, target_object, timeout)\u001b[0m\n\u001b[0;32m    345\u001b[0m \u001b[38;5;28;01mdef\u001b[39;00m \u001b[38;5;21m_do_request\u001b[39m(\n\u001b[0;32m    346\u001b[0m     \u001b[38;5;28mself\u001b[39m, method, url, headers, data, target_object, timeout\u001b[38;5;241m=\u001b[39m_DEFAULT_TIMEOUT\n\u001b[0;32m    347\u001b[0m ):  \u001b[38;5;66;03m# pylint: disable=unused-argument\u001b[39;00m\n\u001b[0;32m    348\u001b[0m \u001b[38;5;250m    \u001b[39m\u001b[38;5;124;03m\"\"\"Low-level helper:  perform the actual API request over HTTP.\u001b[39;00m\n\u001b[0;32m    349\u001b[0m \n\u001b[0;32m    350\u001b[0m \u001b[38;5;124;03m    Allows batch context managers to override and defer a request.\u001b[39;00m\n\u001b[1;32m   (...)\u001b[0m\n\u001b[0;32m    377\u001b[0m \u001b[38;5;124;03m    :returns: The HTTP response.\u001b[39;00m\n\u001b[0;32m    378\u001b[0m \u001b[38;5;124;03m    \"\"\"\u001b[39;00m\n\u001b[1;32m--> 379\u001b[0m     \u001b[38;5;28;01mreturn\u001b[39;00m \u001b[38;5;28mself\u001b[39m\u001b[38;5;241m.\u001b[39mhttp\u001b[38;5;241m.\u001b[39mrequest(\n\u001b[0;32m    380\u001b[0m         url\u001b[38;5;241m=\u001b[39murl, method\u001b[38;5;241m=\u001b[39mmethod, headers\u001b[38;5;241m=\u001b[39mheaders, data\u001b[38;5;241m=\u001b[39mdata, timeout\u001b[38;5;241m=\u001b[39mtimeout\n\u001b[0;32m    381\u001b[0m     )\n",
      "File \u001b[1;32mc:\\Users\\kyler\\Anaconda\\envs\\work3.11\\Lib\\site-packages\\google\\auth\\transport\\requests.py:537\u001b[0m, in \u001b[0;36mAuthorizedSession.request\u001b[1;34m(self, method, url, data, headers, max_allowed_time, timeout, **kwargs)\u001b[0m\n\u001b[0;32m    534\u001b[0m remaining_time \u001b[38;5;241m=\u001b[39m guard\u001b[38;5;241m.\u001b[39mremaining_timeout\n\u001b[0;32m    536\u001b[0m \u001b[38;5;28;01mwith\u001b[39;00m TimeoutGuard(remaining_time) \u001b[38;5;28;01mas\u001b[39;00m guard:\n\u001b[1;32m--> 537\u001b[0m     response \u001b[38;5;241m=\u001b[39m \u001b[38;5;28msuper\u001b[39m(AuthorizedSession, \u001b[38;5;28mself\u001b[39m)\u001b[38;5;241m.\u001b[39mrequest(\n\u001b[0;32m    538\u001b[0m         method,\n\u001b[0;32m    539\u001b[0m         url,\n\u001b[0;32m    540\u001b[0m         data\u001b[38;5;241m=\u001b[39mdata,\n\u001b[0;32m    541\u001b[0m         headers\u001b[38;5;241m=\u001b[39mrequest_headers,\n\u001b[0;32m    542\u001b[0m         timeout\u001b[38;5;241m=\u001b[39mtimeout,\n\u001b[0;32m    543\u001b[0m         \u001b[38;5;241m*\u001b[39m\u001b[38;5;241m*\u001b[39mkwargs\n\u001b[0;32m    544\u001b[0m     )\n\u001b[0;32m    545\u001b[0m remaining_time \u001b[38;5;241m=\u001b[39m guard\u001b[38;5;241m.\u001b[39mremaining_timeout\n\u001b[0;32m    547\u001b[0m \u001b[38;5;66;03m# If the response indicated that the credentials needed to be\u001b[39;00m\n\u001b[0;32m    548\u001b[0m \u001b[38;5;66;03m# refreshed, then refresh the credentials and re-attempt the\u001b[39;00m\n\u001b[0;32m    549\u001b[0m \u001b[38;5;66;03m# request.\u001b[39;00m\n\u001b[0;32m    550\u001b[0m \u001b[38;5;66;03m# A stored token may expire between the time it is retrieved and\u001b[39;00m\n\u001b[0;32m    551\u001b[0m \u001b[38;5;66;03m# the time the request is made, so we may need to try twice.\u001b[39;00m\n",
      "File \u001b[1;32mc:\\Users\\kyler\\Anaconda\\envs\\work3.11\\Lib\\site-packages\\requests\\sessions.py:589\u001b[0m, in \u001b[0;36mSession.request\u001b[1;34m(self, method, url, params, data, headers, cookies, files, auth, timeout, allow_redirects, proxies, hooks, stream, verify, cert, json)\u001b[0m\n\u001b[0;32m    584\u001b[0m send_kwargs \u001b[38;5;241m=\u001b[39m {\n\u001b[0;32m    585\u001b[0m     \u001b[38;5;124m\"\u001b[39m\u001b[38;5;124mtimeout\u001b[39m\u001b[38;5;124m\"\u001b[39m: timeout,\n\u001b[0;32m    586\u001b[0m     \u001b[38;5;124m\"\u001b[39m\u001b[38;5;124mallow_redirects\u001b[39m\u001b[38;5;124m\"\u001b[39m: allow_redirects,\n\u001b[0;32m    587\u001b[0m }\n\u001b[0;32m    588\u001b[0m send_kwargs\u001b[38;5;241m.\u001b[39mupdate(settings)\n\u001b[1;32m--> 589\u001b[0m resp \u001b[38;5;241m=\u001b[39m \u001b[38;5;28mself\u001b[39m\u001b[38;5;241m.\u001b[39msend(prep, \u001b[38;5;241m*\u001b[39m\u001b[38;5;241m*\u001b[39msend_kwargs)\n\u001b[0;32m    591\u001b[0m \u001b[38;5;28;01mreturn\u001b[39;00m resp\n",
      "File \u001b[1;32mc:\\Users\\kyler\\Anaconda\\envs\\work3.11\\Lib\\site-packages\\requests\\sessions.py:703\u001b[0m, in \u001b[0;36mSession.send\u001b[1;34m(self, request, **kwargs)\u001b[0m\n\u001b[0;32m    700\u001b[0m start \u001b[38;5;241m=\u001b[39m preferred_clock()\n\u001b[0;32m    702\u001b[0m \u001b[38;5;66;03m# Send the request\u001b[39;00m\n\u001b[1;32m--> 703\u001b[0m r \u001b[38;5;241m=\u001b[39m adapter\u001b[38;5;241m.\u001b[39msend(request, \u001b[38;5;241m*\u001b[39m\u001b[38;5;241m*\u001b[39mkwargs)\n\u001b[0;32m    705\u001b[0m \u001b[38;5;66;03m# Total elapsed time of the request (approximately)\u001b[39;00m\n\u001b[0;32m    706\u001b[0m elapsed \u001b[38;5;241m=\u001b[39m preferred_clock() \u001b[38;5;241m-\u001b[39m start\n",
      "File \u001b[1;32mc:\\Users\\kyler\\Anaconda\\envs\\work3.11\\Lib\\site-packages\\requests\\adapters.py:667\u001b[0m, in \u001b[0;36mHTTPAdapter.send\u001b[1;34m(self, request, stream, timeout, verify, cert, proxies)\u001b[0m\n\u001b[0;32m    664\u001b[0m     timeout \u001b[38;5;241m=\u001b[39m TimeoutSauce(connect\u001b[38;5;241m=\u001b[39mtimeout, read\u001b[38;5;241m=\u001b[39mtimeout)\n\u001b[0;32m    666\u001b[0m \u001b[38;5;28;01mtry\u001b[39;00m:\n\u001b[1;32m--> 667\u001b[0m     resp \u001b[38;5;241m=\u001b[39m conn\u001b[38;5;241m.\u001b[39murlopen(\n\u001b[0;32m    668\u001b[0m         method\u001b[38;5;241m=\u001b[39mrequest\u001b[38;5;241m.\u001b[39mmethod,\n\u001b[0;32m    669\u001b[0m         url\u001b[38;5;241m=\u001b[39murl,\n\u001b[0;32m    670\u001b[0m         body\u001b[38;5;241m=\u001b[39mrequest\u001b[38;5;241m.\u001b[39mbody,\n\u001b[0;32m    671\u001b[0m         headers\u001b[38;5;241m=\u001b[39mrequest\u001b[38;5;241m.\u001b[39mheaders,\n\u001b[0;32m    672\u001b[0m         redirect\u001b[38;5;241m=\u001b[39m\u001b[38;5;28;01mFalse\u001b[39;00m,\n\u001b[0;32m    673\u001b[0m         assert_same_host\u001b[38;5;241m=\u001b[39m\u001b[38;5;28;01mFalse\u001b[39;00m,\n\u001b[0;32m    674\u001b[0m         preload_content\u001b[38;5;241m=\u001b[39m\u001b[38;5;28;01mFalse\u001b[39;00m,\n\u001b[0;32m    675\u001b[0m         decode_content\u001b[38;5;241m=\u001b[39m\u001b[38;5;28;01mFalse\u001b[39;00m,\n\u001b[0;32m    676\u001b[0m         retries\u001b[38;5;241m=\u001b[39m\u001b[38;5;28mself\u001b[39m\u001b[38;5;241m.\u001b[39mmax_retries,\n\u001b[0;32m    677\u001b[0m         timeout\u001b[38;5;241m=\u001b[39mtimeout,\n\u001b[0;32m    678\u001b[0m         chunked\u001b[38;5;241m=\u001b[39mchunked,\n\u001b[0;32m    679\u001b[0m     )\n\u001b[0;32m    681\u001b[0m \u001b[38;5;28;01mexcept\u001b[39;00m (ProtocolError, \u001b[38;5;167;01mOSError\u001b[39;00m) \u001b[38;5;28;01mas\u001b[39;00m err:\n\u001b[0;32m    682\u001b[0m     \u001b[38;5;28;01mraise\u001b[39;00m \u001b[38;5;167;01mConnectionError\u001b[39;00m(err, request\u001b[38;5;241m=\u001b[39mrequest)\n",
      "File \u001b[1;32mc:\\Users\\kyler\\Anaconda\\envs\\work3.11\\Lib\\site-packages\\urllib3\\connectionpool.py:789\u001b[0m, in \u001b[0;36mHTTPConnectionPool.urlopen\u001b[1;34m(self, method, url, body, headers, retries, redirect, assert_same_host, timeout, pool_timeout, release_conn, chunked, body_pos, preload_content, decode_content, **response_kw)\u001b[0m\n\u001b[0;32m    786\u001b[0m response_conn \u001b[38;5;241m=\u001b[39m conn \u001b[38;5;28;01mif\u001b[39;00m \u001b[38;5;129;01mnot\u001b[39;00m release_conn \u001b[38;5;28;01melse\u001b[39;00m \u001b[38;5;28;01mNone\u001b[39;00m\n\u001b[0;32m    788\u001b[0m \u001b[38;5;66;03m# Make the request on the HTTPConnection object\u001b[39;00m\n\u001b[1;32m--> 789\u001b[0m response \u001b[38;5;241m=\u001b[39m \u001b[38;5;28mself\u001b[39m\u001b[38;5;241m.\u001b[39m_make_request(\n\u001b[0;32m    790\u001b[0m     conn,\n\u001b[0;32m    791\u001b[0m     method,\n\u001b[0;32m    792\u001b[0m     url,\n\u001b[0;32m    793\u001b[0m     timeout\u001b[38;5;241m=\u001b[39mtimeout_obj,\n\u001b[0;32m    794\u001b[0m     body\u001b[38;5;241m=\u001b[39mbody,\n\u001b[0;32m    795\u001b[0m     headers\u001b[38;5;241m=\u001b[39mheaders,\n\u001b[0;32m    796\u001b[0m     chunked\u001b[38;5;241m=\u001b[39mchunked,\n\u001b[0;32m    797\u001b[0m     retries\u001b[38;5;241m=\u001b[39mretries,\n\u001b[0;32m    798\u001b[0m     response_conn\u001b[38;5;241m=\u001b[39mresponse_conn,\n\u001b[0;32m    799\u001b[0m     preload_content\u001b[38;5;241m=\u001b[39mpreload_content,\n\u001b[0;32m    800\u001b[0m     decode_content\u001b[38;5;241m=\u001b[39mdecode_content,\n\u001b[0;32m    801\u001b[0m     \u001b[38;5;241m*\u001b[39m\u001b[38;5;241m*\u001b[39mresponse_kw,\n\u001b[0;32m    802\u001b[0m )\n\u001b[0;32m    804\u001b[0m \u001b[38;5;66;03m# Everything went great!\u001b[39;00m\n\u001b[0;32m    805\u001b[0m clean_exit \u001b[38;5;241m=\u001b[39m \u001b[38;5;28;01mTrue\u001b[39;00m\n",
      "File \u001b[1;32mc:\\Users\\kyler\\Anaconda\\envs\\work3.11\\Lib\\site-packages\\urllib3\\connectionpool.py:536\u001b[0m, in \u001b[0;36mHTTPConnectionPool._make_request\u001b[1;34m(self, conn, method, url, body, headers, retries, timeout, chunked, response_conn, preload_content, decode_content, enforce_content_length)\u001b[0m\n\u001b[0;32m    534\u001b[0m \u001b[38;5;66;03m# Receive the response from the server\u001b[39;00m\n\u001b[0;32m    535\u001b[0m \u001b[38;5;28;01mtry\u001b[39;00m:\n\u001b[1;32m--> 536\u001b[0m     response \u001b[38;5;241m=\u001b[39m conn\u001b[38;5;241m.\u001b[39mgetresponse()\n\u001b[0;32m    537\u001b[0m \u001b[38;5;28;01mexcept\u001b[39;00m (BaseSSLError, \u001b[38;5;167;01mOSError\u001b[39;00m) \u001b[38;5;28;01mas\u001b[39;00m e:\n\u001b[0;32m    538\u001b[0m     \u001b[38;5;28mself\u001b[39m\u001b[38;5;241m.\u001b[39m_raise_timeout(err\u001b[38;5;241m=\u001b[39me, url\u001b[38;5;241m=\u001b[39murl, timeout_value\u001b[38;5;241m=\u001b[39mread_timeout)\n",
      "File \u001b[1;32mc:\\Users\\kyler\\Anaconda\\envs\\work3.11\\Lib\\site-packages\\urllib3\\connection.py:507\u001b[0m, in \u001b[0;36mHTTPConnection.getresponse\u001b[1;34m(self)\u001b[0m\n\u001b[0;32m    504\u001b[0m \u001b[38;5;28;01mfrom\u001b[39;00m \u001b[38;5;21;01m.\u001b[39;00m\u001b[38;5;21;01mresponse\u001b[39;00m \u001b[38;5;28;01mimport\u001b[39;00m HTTPResponse\n\u001b[0;32m    506\u001b[0m \u001b[38;5;66;03m# Get the response from http.client.HTTPConnection\u001b[39;00m\n\u001b[1;32m--> 507\u001b[0m httplib_response \u001b[38;5;241m=\u001b[39m \u001b[38;5;28msuper\u001b[39m()\u001b[38;5;241m.\u001b[39mgetresponse()\n\u001b[0;32m    509\u001b[0m \u001b[38;5;28;01mtry\u001b[39;00m:\n\u001b[0;32m    510\u001b[0m     assert_header_parsing(httplib_response\u001b[38;5;241m.\u001b[39mmsg)\n",
      "File \u001b[1;32mc:\\Users\\kyler\\Anaconda\\envs\\work3.11\\Lib\\http\\client.py:1395\u001b[0m, in \u001b[0;36mHTTPConnection.getresponse\u001b[1;34m(self)\u001b[0m\n\u001b[0;32m   1393\u001b[0m \u001b[38;5;28;01mtry\u001b[39;00m:\n\u001b[0;32m   1394\u001b[0m     \u001b[38;5;28;01mtry\u001b[39;00m:\n\u001b[1;32m-> 1395\u001b[0m         response\u001b[38;5;241m.\u001b[39mbegin()\n\u001b[0;32m   1396\u001b[0m     \u001b[38;5;28;01mexcept\u001b[39;00m \u001b[38;5;167;01mConnectionError\u001b[39;00m:\n\u001b[0;32m   1397\u001b[0m         \u001b[38;5;28mself\u001b[39m\u001b[38;5;241m.\u001b[39mclose()\n",
      "File \u001b[1;32mc:\\Users\\kyler\\Anaconda\\envs\\work3.11\\Lib\\http\\client.py:325\u001b[0m, in \u001b[0;36mHTTPResponse.begin\u001b[1;34m(self)\u001b[0m\n\u001b[0;32m    323\u001b[0m \u001b[38;5;66;03m# read until we get a non-100 response\u001b[39;00m\n\u001b[0;32m    324\u001b[0m \u001b[38;5;28;01mwhile\u001b[39;00m \u001b[38;5;28;01mTrue\u001b[39;00m:\n\u001b[1;32m--> 325\u001b[0m     version, status, reason \u001b[38;5;241m=\u001b[39m \u001b[38;5;28mself\u001b[39m\u001b[38;5;241m.\u001b[39m_read_status()\n\u001b[0;32m    326\u001b[0m     \u001b[38;5;28;01mif\u001b[39;00m status \u001b[38;5;241m!=\u001b[39m CONTINUE:\n\u001b[0;32m    327\u001b[0m         \u001b[38;5;28;01mbreak\u001b[39;00m\n",
      "File \u001b[1;32mc:\\Users\\kyler\\Anaconda\\envs\\work3.11\\Lib\\http\\client.py:286\u001b[0m, in \u001b[0;36mHTTPResponse._read_status\u001b[1;34m(self)\u001b[0m\n\u001b[0;32m    285\u001b[0m \u001b[38;5;28;01mdef\u001b[39;00m \u001b[38;5;21m_read_status\u001b[39m(\u001b[38;5;28mself\u001b[39m):\n\u001b[1;32m--> 286\u001b[0m     line \u001b[38;5;241m=\u001b[39m \u001b[38;5;28mstr\u001b[39m(\u001b[38;5;28mself\u001b[39m\u001b[38;5;241m.\u001b[39mfp\u001b[38;5;241m.\u001b[39mreadline(_MAXLINE \u001b[38;5;241m+\u001b[39m \u001b[38;5;241m1\u001b[39m), \u001b[38;5;124m\"\u001b[39m\u001b[38;5;124miso-8859-1\u001b[39m\u001b[38;5;124m\"\u001b[39m)\n\u001b[0;32m    287\u001b[0m     \u001b[38;5;28;01mif\u001b[39;00m \u001b[38;5;28mlen\u001b[39m(line) \u001b[38;5;241m>\u001b[39m _MAXLINE:\n\u001b[0;32m    288\u001b[0m         \u001b[38;5;28;01mraise\u001b[39;00m LineTooLong(\u001b[38;5;124m\"\u001b[39m\u001b[38;5;124mstatus line\u001b[39m\u001b[38;5;124m\"\u001b[39m)\n",
      "File \u001b[1;32mc:\\Users\\kyler\\Anaconda\\envs\\work3.11\\Lib\\socket.py:718\u001b[0m, in \u001b[0;36mSocketIO.readinto\u001b[1;34m(self, b)\u001b[0m\n\u001b[0;32m    716\u001b[0m \u001b[38;5;28;01mwhile\u001b[39;00m \u001b[38;5;28;01mTrue\u001b[39;00m:\n\u001b[0;32m    717\u001b[0m     \u001b[38;5;28;01mtry\u001b[39;00m:\n\u001b[1;32m--> 718\u001b[0m         \u001b[38;5;28;01mreturn\u001b[39;00m \u001b[38;5;28mself\u001b[39m\u001b[38;5;241m.\u001b[39m_sock\u001b[38;5;241m.\u001b[39mrecv_into(b)\n\u001b[0;32m    719\u001b[0m     \u001b[38;5;28;01mexcept\u001b[39;00m timeout:\n\u001b[0;32m    720\u001b[0m         \u001b[38;5;28mself\u001b[39m\u001b[38;5;241m.\u001b[39m_timeout_occurred \u001b[38;5;241m=\u001b[39m \u001b[38;5;28;01mTrue\u001b[39;00m\n",
      "File \u001b[1;32mc:\\Users\\kyler\\Anaconda\\envs\\work3.11\\Lib\\ssl.py:1314\u001b[0m, in \u001b[0;36mSSLSocket.recv_into\u001b[1;34m(self, buffer, nbytes, flags)\u001b[0m\n\u001b[0;32m   1310\u001b[0m     \u001b[38;5;28;01mif\u001b[39;00m flags \u001b[38;5;241m!=\u001b[39m \u001b[38;5;241m0\u001b[39m:\n\u001b[0;32m   1311\u001b[0m         \u001b[38;5;28;01mraise\u001b[39;00m \u001b[38;5;167;01mValueError\u001b[39;00m(\n\u001b[0;32m   1312\u001b[0m           \u001b[38;5;124m\"\u001b[39m\u001b[38;5;124mnon-zero flags not allowed in calls to recv_into() on \u001b[39m\u001b[38;5;132;01m%s\u001b[39;00m\u001b[38;5;124m\"\u001b[39m \u001b[38;5;241m%\u001b[39m\n\u001b[0;32m   1313\u001b[0m           \u001b[38;5;28mself\u001b[39m\u001b[38;5;241m.\u001b[39m\u001b[38;5;18m__class__\u001b[39m)\n\u001b[1;32m-> 1314\u001b[0m     \u001b[38;5;28;01mreturn\u001b[39;00m \u001b[38;5;28mself\u001b[39m\u001b[38;5;241m.\u001b[39mread(nbytes, buffer)\n\u001b[0;32m   1315\u001b[0m \u001b[38;5;28;01melse\u001b[39;00m:\n\u001b[0;32m   1316\u001b[0m     \u001b[38;5;28;01mreturn\u001b[39;00m \u001b[38;5;28msuper\u001b[39m()\u001b[38;5;241m.\u001b[39mrecv_into(buffer, nbytes, flags)\n",
      "File \u001b[1;32mc:\\Users\\kyler\\Anaconda\\envs\\work3.11\\Lib\\ssl.py:1166\u001b[0m, in \u001b[0;36mSSLSocket.read\u001b[1;34m(self, len, buffer)\u001b[0m\n\u001b[0;32m   1164\u001b[0m \u001b[38;5;28;01mtry\u001b[39;00m:\n\u001b[0;32m   1165\u001b[0m     \u001b[38;5;28;01mif\u001b[39;00m buffer \u001b[38;5;129;01mis\u001b[39;00m \u001b[38;5;129;01mnot\u001b[39;00m \u001b[38;5;28;01mNone\u001b[39;00m:\n\u001b[1;32m-> 1166\u001b[0m         \u001b[38;5;28;01mreturn\u001b[39;00m \u001b[38;5;28mself\u001b[39m\u001b[38;5;241m.\u001b[39m_sslobj\u001b[38;5;241m.\u001b[39mread(\u001b[38;5;28mlen\u001b[39m, buffer)\n\u001b[0;32m   1167\u001b[0m     \u001b[38;5;28;01melse\u001b[39;00m:\n\u001b[0;32m   1168\u001b[0m         \u001b[38;5;28;01mreturn\u001b[39;00m \u001b[38;5;28mself\u001b[39m\u001b[38;5;241m.\u001b[39m_sslobj\u001b[38;5;241m.\u001b[39mread(\u001b[38;5;28mlen\u001b[39m)\n",
      "\u001b[1;31mKeyboardInterrupt\u001b[0m: "
     ]
    }
   ],
   "source": [
    "migrator.cleanup_old()"
   ]
  },
  {
   "cell_type": "code",
   "execution_count": null,
   "metadata": {},
   "outputs": [],
   "source": []
  }
 ],
 "metadata": {
  "kernelspec": {
   "display_name": "work3.11",
   "language": "python",
   "name": "python3"
  },
  "language_info": {
   "codemirror_mode": {
    "name": "ipython",
    "version": 3
   },
   "file_extension": ".py",
   "mimetype": "text/x-python",
   "name": "python",
   "nbconvert_exporter": "python",
   "pygments_lexer": "ipython3",
   "version": "3.11.11"
  }
 },
 "nbformat": 4,
 "nbformat_minor": 2
}
